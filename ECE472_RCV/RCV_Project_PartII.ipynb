{
 "cells": [
  {
   "cell_type": "code",
   "execution_count": 17,
   "metadata": {},
   "outputs": [
    {
     "name": "stdout",
     "output_type": "stream",
     "text": [
      "_________________________________________________________________\n",
      "Layer (type)                 Output Shape              Param #   \n",
      "=================================================================\n",
      "input_6 (InputLayer)         (None, 224, 224, 3)       0         \n",
      "_________________________________________________________________\n",
      "block1_conv1 (Conv2D)        (None, 224, 224, 64)      1792      \n",
      "_________________________________________________________________\n",
      "block1_conv2 (Conv2D)        (None, 224, 224, 64)      36928     \n",
      "_________________________________________________________________\n",
      "block1_pool (MaxPooling2D)   (None, 112, 112, 64)      0         \n",
      "_________________________________________________________________\n",
      "block2_conv1 (Conv2D)        (None, 112, 112, 128)     73856     \n",
      "_________________________________________________________________\n",
      "block2_conv2 (Conv2D)        (None, 112, 112, 128)     147584    \n",
      "_________________________________________________________________\n",
      "block2_pool (MaxPooling2D)   (None, 56, 56, 128)       0         \n",
      "_________________________________________________________________\n",
      "block3_conv1 (Conv2D)        (None, 56, 56, 256)       295168    \n",
      "_________________________________________________________________\n",
      "block3_conv2 (Conv2D)        (None, 56, 56, 256)       590080    \n",
      "_________________________________________________________________\n",
      "block3_conv3 (Conv2D)        (None, 56, 56, 256)       590080    \n",
      "_________________________________________________________________\n",
      "block3_pool (MaxPooling2D)   (None, 28, 28, 256)       0         \n",
      "_________________________________________________________________\n",
      "block4_conv1 (Conv2D)        (None, 28, 28, 512)       1180160   \n",
      "_________________________________________________________________\n",
      "block4_conv2 (Conv2D)        (None, 28, 28, 512)       2359808   \n",
      "_________________________________________________________________\n",
      "block4_conv3 (Conv2D)        (None, 28, 28, 512)       2359808   \n",
      "_________________________________________________________________\n",
      "block4_pool (MaxPooling2D)   (None, 14, 14, 512)       0         \n",
      "_________________________________________________________________\n",
      "block5_conv1 (Conv2D)        (None, 14, 14, 512)       2359808   \n",
      "_________________________________________________________________\n",
      "block5_conv2 (Conv2D)        (None, 14, 14, 512)       2359808   \n",
      "_________________________________________________________________\n",
      "block5_conv3 (Conv2D)        (None, 14, 14, 512)       2359808   \n",
      "_________________________________________________________________\n",
      "block5_pool (MaxPooling2D)   (None, 7, 7, 512)         0         \n",
      "_________________________________________________________________\n",
      "flatten (Flatten)            (None, 25088)             0         \n",
      "_________________________________________________________________\n",
      "fc1 (Dense)                  (None, 4096)              102764544 \n",
      "_________________________________________________________________\n",
      "fc2 (Dense)                  (None, 4096)              16781312  \n",
      "_________________________________________________________________\n",
      "predictions (Dense)          (None, 1000)              4097000   \n",
      "=================================================================\n",
      "Total params: 138,357,544\n",
      "Trainable params: 138,357,544\n",
      "Non-trainable params: 0\n",
      "_________________________________________________________________\n",
      "Predicted: [('n03478589', 'half_track', 0.25890866)]\n",
      "Predicted: [('n02704792', 'amphibian', 0.26588643)]\n",
      "Predicted: [('n02930766', 'cab', 0.24051492)]\n",
      "Predicted: [('n09332890', 'lakeside', 0.19604489)]\n",
      "Predicted: [('n03594945', 'jeep', 0.2812354)]\n",
      "Predicted: [('n06359193', 'web_site', 0.9788153)]\n",
      "Predicted: [('n03223299', 'doormat', 0.98005944)]\n",
      "Predicted: [('n02883205', 'bow_tie', 0.4263452)]\n",
      "Predicted: [('n04423845', 'thimble', 0.24270567)]\n",
      "Predicted: [('n02123597', 'Siamese_cat', 0.9894509)]\n",
      "Predicted: [('n02909870', 'bucket', 0.12152494)]\n",
      "Predicted: [('n04259630', 'sombrero', 0.31809577)]\n",
      "Predicted: [('n03201208', 'dining_table', 0.71075755)]\n",
      "Predicted: [('n03958227', 'plastic_bag', 0.4775569)]\n",
      "Predicted: [('n03825788', 'nipple', 0.8963314)]\n",
      "Predicted: [('n09288635', 'geyser', 0.7458654)]\n",
      "Predicted: [('n09193705', 'alp', 0.6053608)]\n",
      "Predicted: [('n09193705', 'alp', 0.5142611)]\n",
      "Predicted: [('n03344393', 'fireboat', 0.24988751)]\n",
      "Predicted: [('n09193705', 'alp', 0.632514)]\n"
     ]
    }
   ],
   "source": [
    "from keras.applications.vgg16 import VGG16\n",
    "from keras.applications.vgg16 import preprocess_input, decode_predictions\n",
    "from keras.preprocessing import image\n",
    "import numpy as np\n",
    "import glob\n",
    "\n",
    "\n",
    "model = VGG16(weights='imagenet')\n",
    "model.summary()\n",
    "path = 'G:\\Photographs\\ResNet\\\\'\n",
    "images_path = glob.glob(path + \"*.jpg\")\n",
    "images_path.extend(glob.glob(path+\"*.PNG\"))\n",
    "for img_path in sorted(images_path):\n",
    "    img = image.load_img(img_path, target_size=(224, 224))\n",
    "    x = image.img_to_array(img)\n",
    "    x = np.expand_dims(x, axis=0)\n",
    "    #x = preprocess_input(x)\n",
    "    \n",
    "    preds = model.predict(x)\n",
    "    print('Predicted:', decode_predictions(preds, top=1)[0])\n"
   ]
  },
  {
   "cell_type": "code",
   "execution_count": 15,
   "metadata": {},
   "outputs": [
    {
     "name": "stdout",
     "output_type": "stream",
     "text": [
      "['G:\\\\Photographs\\\\ResNet\\\\Car_1resize.jpg', 'G:\\\\Photographs\\\\ResNet\\\\Car_2resize.jpg', 'G:\\\\Photographs\\\\ResNet\\\\Car_3resize.jpg', 'G:\\\\Photographs\\\\ResNet\\\\Car_4resize.jpg', 'G:\\\\Photographs\\\\ResNet\\\\Car_5resize.jpg', 'G:\\\\Photographs\\\\ResNet\\\\Cat(Kidding)_5.jpg', 'G:\\\\Photographs\\\\ResNet\\\\Cat_2.jpg', 'G:\\\\Photographs\\\\ResNet\\\\Cat_3.jpg', 'G:\\\\Photographs\\\\ResNet\\\\Cat_4.jpg', 'G:\\\\Photographs\\\\ResNet\\\\Food_1resize.jpg', 'G:\\\\Photographs\\\\ResNet\\\\Food_2resize.jpg', 'G:\\\\Photographs\\\\ResNet\\\\Food_3resize.jpg', 'G:\\\\Photographs\\\\ResNet\\\\Food_4resize.jpg', 'G:\\\\Photographs\\\\ResNet\\\\Food_5resize.jpg', 'G:\\\\Photographs\\\\ResNet\\\\Mountain_1resize.jpg', 'G:\\\\Photographs\\\\ResNet\\\\Mountain_2resize.jpg', 'G:\\\\Photographs\\\\ResNet\\\\Mountain_3resize.jpg', 'G:\\\\Photographs\\\\ResNet\\\\Mountain_4resize.jpg', 'G:\\\\Photographs\\\\ResNet\\\\Mountain_5resize.jpg']\n"
     ]
    }
   ],
   "source": [
    "print(glob.glob(path + \"*.jpg\"))"
   ]
  },
  {
   "cell_type": "code",
   "execution_count": 41,
   "metadata": {
    "scrolled": false
   },
   "outputs": [
    {
     "name": "stdout",
     "output_type": "stream",
     "text": [
      "Found 16160 images belonging to 2 classes.\n",
      "Found 800 images belonging to 2 classes.\n",
      "Found 40 images belonging to 2 classes.\n",
      "_________________________________________________________________\n",
      "Layer (type)                 Output Shape              Param #   \n",
      "=================================================================\n",
      "input_4 (InputLayer)         (None, 224, 224, 3)       0         \n",
      "_________________________________________________________________\n",
      "block1_conv1 (Conv2D)        (None, 224, 224, 64)      1792      \n",
      "_________________________________________________________________\n",
      "block1_conv2 (Conv2D)        (None, 224, 224, 64)      36928     \n",
      "_________________________________________________________________\n",
      "block1_pool (MaxPooling2D)   (None, 112, 112, 64)      0         \n",
      "_________________________________________________________________\n",
      "block2_conv1 (Conv2D)        (None, 112, 112, 128)     73856     \n",
      "_________________________________________________________________\n",
      "block2_conv2 (Conv2D)        (None, 112, 112, 128)     147584    \n",
      "_________________________________________________________________\n",
      "block2_pool (MaxPooling2D)   (None, 56, 56, 128)       0         \n",
      "_________________________________________________________________\n",
      "block3_conv1 (Conv2D)        (None, 56, 56, 256)       295168    \n",
      "_________________________________________________________________\n",
      "block3_conv2 (Conv2D)        (None, 56, 56, 256)       590080    \n",
      "_________________________________________________________________\n",
      "block3_conv3 (Conv2D)        (None, 56, 56, 256)       590080    \n",
      "_________________________________________________________________\n",
      "block3_pool (MaxPooling2D)   (None, 28, 28, 256)       0         \n",
      "_________________________________________________________________\n",
      "block4_conv1 (Conv2D)        (None, 28, 28, 512)       1180160   \n",
      "_________________________________________________________________\n",
      "block4_conv2 (Conv2D)        (None, 28, 28, 512)       2359808   \n",
      "_________________________________________________________________\n",
      "block4_conv3 (Conv2D)        (None, 28, 28, 512)       2359808   \n",
      "_________________________________________________________________\n",
      "block4_pool (MaxPooling2D)   (None, 14, 14, 512)       0         \n",
      "_________________________________________________________________\n",
      "block5_conv1 (Conv2D)        (None, 14, 14, 512)       2359808   \n",
      "_________________________________________________________________\n",
      "block5_conv2 (Conv2D)        (None, 14, 14, 512)       2359808   \n",
      "_________________________________________________________________\n",
      "block5_conv3 (Conv2D)        (None, 14, 14, 512)       2359808   \n",
      "_________________________________________________________________\n",
      "block5_pool (MaxPooling2D)   (None, 7, 7, 512)         0         \n",
      "_________________________________________________________________\n",
      "flatten (Flatten)            (None, 25088)             0         \n",
      "_________________________________________________________________\n",
      "fc1 (Dense)                  (None, 4096)              102764544 \n",
      "_________________________________________________________________\n",
      "fc2 (Dense)                  (None, 4096)              16781312  \n",
      "_________________________________________________________________\n",
      "predictions (Dense)          (None, 2)                 8194      \n",
      "=================================================================\n",
      "Total params: 134,268,738\n",
      "Trainable params: 8,194\n",
      "Non-trainable params: 134,260,544\n",
      "_________________________________________________________________\n"
     ]
    },
    {
     "data": {
      "application/vnd.jupyter.widget-view+json": {
       "model_id": "d31b15003f0d4ece92afdf702cb1b767",
       "version_major": 2,
       "version_minor": 0
      },
      "text/plain": [
       "HBox(children=(IntProgress(value=0, description='Training', max=10), HTML(value='')))"
      ]
     },
     "metadata": {},
     "output_type": "display_data"
    },
    {
     "name": "stdout",
     "output_type": "stream",
     "text": [
      "Epoch 1/10\n"
     ]
    },
    {
     "data": {
      "application/vnd.jupyter.widget-view+json": {
       "model_id": "",
       "version_major": 2,
       "version_minor": 0
      },
      "text/plain": [
       "HBox(children=(IntProgress(value=0, description='Epoch 0', max=1010), HTML(value='')))"
      ]
     },
     "metadata": {},
     "output_type": "display_data"
    },
    {
     "name": "stdout",
     "output_type": "stream",
     "text": [
      " - 218s - loss: 0.1386 - acc: 0.9530 - val_loss: 0.0988 - val_acc: 0.9650\n",
      "Epoch 2/10\n"
     ]
    },
    {
     "data": {
      "application/vnd.jupyter.widget-view+json": {
       "model_id": "",
       "version_major": 2,
       "version_minor": 0
      },
      "text/plain": [
       "HBox(children=(IntProgress(value=0, description='Epoch 1', max=1010), HTML(value='')))"
      ]
     },
     "metadata": {},
     "output_type": "display_data"
    },
    {
     "name": "stdout",
     "output_type": "stream",
     "text": [
      " - 219s - loss: 0.0843 - acc: 0.9742 - val_loss: 0.1897 - val_acc: 0.9675\n",
      "Epoch 3/10\n"
     ]
    },
    {
     "data": {
      "application/vnd.jupyter.widget-view+json": {
       "model_id": "",
       "version_major": 2,
       "version_minor": 0
      },
      "text/plain": [
       "HBox(children=(IntProgress(value=0, description='Epoch 2', max=1010), HTML(value='')))"
      ]
     },
     "metadata": {},
     "output_type": "display_data"
    },
    {
     "name": "stdout",
     "output_type": "stream",
     "text": [
      " - 223s - loss: 0.0869 - acc: 0.9748 - val_loss: 0.1801 - val_acc: 0.9613\n",
      "Epoch 4/10\n"
     ]
    },
    {
     "data": {
      "application/vnd.jupyter.widget-view+json": {
       "model_id": "",
       "version_major": 2,
       "version_minor": 0
      },
      "text/plain": [
       "HBox(children=(IntProgress(value=0, description='Epoch 3', max=1010), HTML(value='')))"
      ]
     },
     "metadata": {},
     "output_type": "display_data"
    },
    {
     "name": "stdout",
     "output_type": "stream",
     "text": [
      " - 216s - loss: 0.0905 - acc: 0.9754 - val_loss: 0.2457 - val_acc: 0.9437\n",
      "Epoch 5/10\n"
     ]
    },
    {
     "data": {
      "application/vnd.jupyter.widget-view+json": {
       "model_id": "",
       "version_major": 2,
       "version_minor": 0
      },
      "text/plain": [
       "HBox(children=(IntProgress(value=0, description='Epoch 4', max=1010), HTML(value='')))"
      ]
     },
     "metadata": {},
     "output_type": "display_data"
    },
    {
     "name": "stdout",
     "output_type": "stream",
     "text": [
      " - 214s - loss: 0.0765 - acc: 0.9789 - val_loss: 0.1359 - val_acc: 0.9637\n",
      "Epoch 6/10\n"
     ]
    },
    {
     "data": {
      "application/vnd.jupyter.widget-view+json": {
       "model_id": "",
       "version_major": 2,
       "version_minor": 0
      },
      "text/plain": [
       "HBox(children=(IntProgress(value=0, description='Epoch 5', max=1010), HTML(value='')))"
      ]
     },
     "metadata": {},
     "output_type": "display_data"
    },
    {
     "name": "stdout",
     "output_type": "stream",
     "text": [
      " - 209s - loss: 0.0717 - acc: 0.9802 - val_loss: 0.1594 - val_acc: 0.9750\n",
      "Epoch 7/10\n"
     ]
    },
    {
     "data": {
      "application/vnd.jupyter.widget-view+json": {
       "model_id": "",
       "version_major": 2,
       "version_minor": 0
      },
      "text/plain": [
       "HBox(children=(IntProgress(value=0, description='Epoch 6', max=1010), HTML(value='')))"
      ]
     },
     "metadata": {},
     "output_type": "display_data"
    },
    {
     "name": "stdout",
     "output_type": "stream",
     "text": [
      " - 220s - loss: 0.0741 - acc: 0.9809 - val_loss: 0.1185 - val_acc: 0.9750\n",
      "Epoch 8/10\n"
     ]
    },
    {
     "data": {
      "application/vnd.jupyter.widget-view+json": {
       "model_id": "",
       "version_major": 2,
       "version_minor": 0
      },
      "text/plain": [
       "HBox(children=(IntProgress(value=0, description='Epoch 7', max=1010), HTML(value='')))"
      ]
     },
     "metadata": {},
     "output_type": "display_data"
    },
    {
     "name": "stdout",
     "output_type": "stream",
     "text": [
      " - 219s - loss: 0.0715 - acc: 0.9823 - val_loss: 0.1675 - val_acc: 0.9625\n",
      "Epoch 9/10\n"
     ]
    },
    {
     "data": {
      "application/vnd.jupyter.widget-view+json": {
       "model_id": "",
       "version_major": 2,
       "version_minor": 0
      },
      "text/plain": [
       "HBox(children=(IntProgress(value=0, description='Epoch 8', max=1010), HTML(value='')))"
      ]
     },
     "metadata": {},
     "output_type": "display_data"
    },
    {
     "name": "stdout",
     "output_type": "stream",
     "text": [
      " - 221s - loss: 0.0785 - acc: 0.9805 - val_loss: 0.1202 - val_acc: 0.9775\n",
      "Epoch 10/10\n"
     ]
    },
    {
     "data": {
      "application/vnd.jupyter.widget-view+json": {
       "model_id": "",
       "version_major": 2,
       "version_minor": 0
      },
      "text/plain": [
       "HBox(children=(IntProgress(value=0, description='Epoch 9', max=1010), HTML(value='')))"
      ]
     },
     "metadata": {},
     "output_type": "display_data"
    },
    {
     "name": "stdout",
     "output_type": "stream",
     "text": [
      " - 226s - loss: 0.0719 - acc: 0.9832 - val_loss: 0.1647 - val_acc: 0.9738\n",
      "\n"
     ]
    },
    {
     "data": {
      "text/plain": [
       "'#evaluate on test set\\nscore = cnn.evaluate(X_test, y_test, verbose = 0)\\n#plot histogram\\n\\npreds = np.argmax(cnn.predict(X_test), axis = 1)\\ny_orig = np.argmax(y_test, axis = 1)\\ncm = confusion_matrix(preds, y_orig)'"
      ]
     },
     "execution_count": 41,
     "metadata": {},
     "output_type": "execute_result"
    },
    {
     "data": {
      "image/png": "[encoded data removed]",
      "text/plain": [
       "<Figure size 1080x504 with 2 Axes>"
      ]
     },
     "metadata": {
      "needs_background": "light"
     },
     "output_type": "display_data"
    }
   ],
   "source": [
    "#Dummy Tunning: Replace the top 3 layers with a dense connected network with 2 softmax outputs\n",
    "\n",
    "from keras.models import Model, Sequential\n",
    "from keras.layers import Flatten, Dense\n",
    "from keras.applications.vgg16 import VGG16\n",
    "from keras.applications.vgg16 import preprocess_input, decode_predictions\n",
    "from keras.preprocessing.image import ImageDataGenerator, array_to_img, img_to_array, load_img\n",
    "from keras.preprocessing import image\n",
    "from keras.optimizers import SGD, Adam\n",
    "import matplotlib.pyplot as plt\n",
    "from keras_tqdm import TQDMNotebookCallback\n",
    "import numpy as np\n",
    "import glob\n",
    "import sys\n",
    "from datetime import datetime\n",
    "\n",
    "channel = 3; img_rows = 224; img_cols = 224\n",
    "\n",
    "\"\"\"model = VGG16(weights = 'imagenet', include_top=False, input_shape=(img_rows, img_cols, channel))\"\"\"\n",
    "VGG = VGG16(weights = 'imagenet', input_shape=(img_rows, img_cols, channel))\n",
    "\n",
    "model = Sequential()\n",
    "for layer in VGG.layers:\n",
    "    model.add(layer)\n",
    "\n",
    "exec_time = datetime.now().strftime('%Y%m%d%H%M%S')\n",
    "num_class = 2\n",
    "rate_learning = 0.001\n",
    "epoch = 10\n",
    "batch_size = 32\n",
    "\n",
    "trainPath = 'G:\\\\Photographs\\\\MIO_TCV_Classif\\\\train_car_bus'\n",
    "validationPath = 'G:\\\\Photographs\\\\MIO_TCV_Classif\\\\validation_car_bus'\n",
    "testPath = 'G:\\\\Photographs\\\\MIO_TCV_Classif\\\\test_car_bus'\n",
    "#cls = ['pedestrian', 'bicycle', 'car', 'bus']\n",
    "cls = ['bus', 'car']\n",
    "#trainBatches = ImageDataGenerator().flow_from_directory(trainPath, target_size=(224, 224), class_mode=\"binary\", batch_size=16)\n",
    "#validationBatches = ImageDataGenerator().flow_from_directory(validationPath, target_size=(224, 224), class_mode=\"binary\", batch_size=16)\n",
    "#testBatches = ImageDataGenerator().flow_from_directory(testPath, target_size=(224, 224), class_mode=\"binary\", batch_size=16)\n",
    "\n",
    "gen = ImageDataGenerator(rotation_range=10, width_shift_range=0.1,\n",
    "                        height_shift_range=0.1, shear_range=0.15, zoom_range=0.1,\n",
    "                        channel_shift_range=10., horizontal_flip=True)\n",
    "\n",
    "trainBatches = gen.flow_from_directory(trainPath, target_size=(224, 224), classes=cls, batch_size=16)\n",
    "validationBatches = gen.flow_from_directory(validationPath, target_size=(224, 224), classes=cls, batch_size=16)\n",
    "testBatches = gen.flow_from_directory(testPath, target_size=(224, 224), classes=cls, batch_size=16)\n",
    "\n",
    "#ata_imgs, data_classes = next(trainBatches)\n",
    "\n",
    "\n",
    "model = Model(model.input, model.layers[-2].get_output_at(-1))\n",
    "last = model.output\n",
    "preds = Dense(num_class, activation='softmax', name='predictions')(last)\n",
    "\n",
    "\"\"\"model.outputs = model.layers[-1].get_output_at(-1)\n",
    "model.layers[-1].outbound_nodes = []print(len(model.layers[len(model.layers)-1].inbound_nodes))\n",
    "model.outputs = Flatten(name='flatten')(model.layers[-1].output)\n",
    "model.layers[-1].outbound_nodes = []\"\"\"\n",
    "\n",
    "\"\"\"\n",
    "last = model.output\n",
    "x = Flatten(input_shape=model.output_shape[1:])(last)\n",
    "preds = Dense(num_class, activation='softmax')(x)\n",
    "model = Model(model.input, preds)\n",
    "print(\"\")\n",
    "\"\"\"\n",
    "\"\"\"\n",
    "model.layers.pop()\n",
    "model.add(Dense(num_class, activation='softmax'))\n",
    "\"\"\"\n",
    "\"\"\"x = Flatten(name='flatten')(model.output)\n",
    "x = Dense(4096, activation='relu', name='fc1')(x)\n",
    "x = Dense(4096, activation='relu', name='fc2')(x)\n",
    "x = Dense(num_class, activation='softmax', name='predictions')(x)\n",
    "\"\"\"\n",
    "\n",
    "model = Model(inputs= model.input, outputs=preds)\n",
    "\n",
    "for layer in model.layers[:-1]:\n",
    "    layer.trainable = False\n",
    "model.summary()\n",
    "#sgd = SGD(lr=rate_learning, decay=1e-6, momentum=0.9, nesterov=True)\n",
    "model.compile(Adam(lr=rate_learning), loss='categorical_crossentropy', metrics=['accuracy'])\n",
    "\n",
    "hist = model.fit_generator(trainBatches, steps_per_epoch=1010,\n",
    "                    validation_data=validationBatches, validation_steps=50,epochs=epoch, verbose=2, callbacks=[TQDMNotebookCallback()])\n",
    "\n",
    "\n",
    "\n",
    "plt.figure(figsize=(15,7))\n",
    "\n",
    "plt.subplot(1,2,1)\n",
    "plt.plot(hist.history['acc'], label='train')\n",
    "plt.plot(hist.history['val_acc'], label='validation')\n",
    "plt.title('Accuracy')\n",
    "plt.xlabel('Epochs')\n",
    "plt.ylabel('Accuracy')\n",
    "plt.legend()\n",
    "\n",
    "plt.subplot(1,2,2)\n",
    "plt.plot(hist.history['loss'], label='train')\n",
    "plt.plot(hist.history['val_loss'], label='validation')\n",
    "plt.title('Loss')\n",
    "plt.xlabel('Epochs')\n",
    "plt.ylabel('Loss')\n",
    "plt.legend()\n",
    "\n",
    "plt.tight_layout()\n",
    "plt.savefig('G:\\Documents\\jupyterOut\\RCV_Project\\\\Hist{}.png'.format(exec_time), format='png', bbox_inches='tight')\n",
    "\"\"\"#evaluate on test set\n",
    "score = cnn.evaluate(X_test, y_test, verbose = 0)\n",
    "#plot histogram\n",
    "\n",
    "preds = np.argmax(cnn.predict(X_test), axis = 1)\n",
    "y_orig = np.argmax(y_test, axis = 1)\n",
    "cm = confusion_matrix(preds, y_orig)\"\"\"\n",
    "\n",
    "\n",
    "\n",
    "\n",
    "#print(\"val_loss = {:.3f} and val_acc = {:.3f}\".format(score[0], score[1]))\n",
    "#predictions = model.predict(testBatches, )\n"
   ]
  },
  {
   "cell_type": "code",
   "execution_count": 40,
   "metadata": {},
   "outputs": [
    {
     "data": {
      "image/png": "[encoded data removed]",
      "text/plain": [
       "<Figure size 1080x504 with 2 Axes>"
      ]
     },
     "metadata": {
      "needs_background": "light"
     },
     "output_type": "display_data"
    }
   ],
   "source": [
    "from datetime import datetime\n",
    "exec_time = datetime.now().strftime('%Y%m%d%H%M%S')\n",
    "plt.figure(figsize=(15,7))\n",
    "\n",
    "plt.subplot(1,2,1)\n",
    "plt.plot(hist.history['acc'], label='train')\n",
    "plt.plot(hist.history['val_acc'], label='validation')\n",
    "plt.title('Accuracy')\n",
    "plt.xlabel('Epochs')\n",
    "plt.ylabel('Accuracy')\n",
    "plt.legend()\n",
    "\n",
    "plt.subplot(1,2,2)\n",
    "plt.plot(hist.history['loss'], label='train')\n",
    "plt.plot(hist.history['val_loss'], label='validation')\n",
    "plt.title('Loss')\n",
    "plt.xlabel('Epochs')\n",
    "plt.ylabel('Loss')\n",
    "plt.legend()\n",
    "\n",
    "plt.tight_layout()\n",
    "plt.savefig('G:\\Documents\\jupyterOut\\RCV_Project\\\\Hist{}.png'.format(exec_time), format='png', bbox_inches='tight')"
   ]
  },
  {
   "cell_type": "code",
   "execution_count": 42,
   "metadata": {},
   "outputs": [
    {
     "name": "stdout",
     "output_type": "stream",
     "text": [
      "Found 40 images belonging to 2 classes.\n",
      "1/1 [==============================] - 1s 607ms/step\n",
      "Confusion matrix, without normalization\n",
      "[[20  0]\n",
      " [ 2 18]]\n"
     ]
    },
    {
     "data": {
      "image/png": "[encoded data removed]",
      "text/plain": [
       "<Figure size 432x288 with 2 Axes>"
      ]
     },
     "metadata": {
      "needs_background": "light"
     },
     "output_type": "display_data"
    }
   ],
   "source": [
    "import itertools\n",
    "from sklearn.metrics import confusion_matrix\n",
    "testBatches = ImageDataGenerator().flow_from_directory(testPath, target_size=(224, 224), classes=cls, batch_size=40, shuffle=False)\n",
    "#model.evaluate_generator(testBatches, steps = 1, verbose = 1)\n",
    "def plot_confusion_matrix(cm, classes,\n",
    "                          normalize=False,\n",
    "                          title='Confusion matrix',\n",
    "                          cmap=plt.cm.Blues):\n",
    "    \"\"\"\n",
    "    This function prints and plots the confusion matrix.\n",
    "    Normalization can be applied by setting `normalize=True`.\n",
    "    \"\"\"\n",
    "    if normalize:\n",
    "        cm = cm.astype('float') / cm.sum(axis=1)[:, np.newaxis]\n",
    "        print(\"Normalized confusion matrix\")\n",
    "    else:\n",
    "        print('Confusion matrix, without normalization')\n",
    "\n",
    "    print(cm)\n",
    "\n",
    "    plt.imshow(cm, interpolation='nearest', cmap=cmap)\n",
    "    plt.title(title)\n",
    "    plt.colorbar()\n",
    "    tick_marks = np.arange(len(classes))\n",
    "    plt.xticks(tick_marks, classes, rotation=45)\n",
    "    plt.yticks(tick_marks, classes)\n",
    "\n",
    "    fmt = '.2f' if normalize else 'd'\n",
    "    thresh = cm.max() / 2.\n",
    "    for i, j in itertools.product(range(cm.shape[0]), range(cm.shape[1])):\n",
    "        plt.text(j, i, format(cm[i, j], fmt),\n",
    "                 horizontalalignment=\"center\",\n",
    "                 color=\"white\" if cm[i, j] > thresh else \"black\")\n",
    "\n",
    "    plt.ylabel('True label')\n",
    "    plt.xlabel('Predicted label')\n",
    "    plt.tight_layout()\n",
    "    plt.savefig('G:\\Documents\\jupyterOut\\RCV_Project\\\\ConfuMat{}.png'.format(exec_time), format='png', bbox_inches='tight')\n",
    "\n",
    "\n",
    "pred = model.predict_generator(testBatches, steps = 1, verbose = 1)\n",
    "y = []\n",
    "for i in range (len(testBatches)):\n",
    "    y.extend(testBatches[i][1])\n",
    "\n",
    "y = np.asarray(y)\n",
    "#print(testBatches.filenames)\n",
    "#print(pred)\n",
    "#print(y)\n",
    "cm = confusion_matrix(y[:, 0], np.round(pred[:,0]))\n",
    "plot_confusion_matrix(cm, ['bus', 'car'])\n"
   ]
  },
  {
   "cell_type": "code",
   "execution_count": 22,
   "metadata": {},
   "outputs": [
    {
     "name": "stdout",
     "output_type": "stream",
     "text": [
      "{'bus': 0, 'car': 1}\n",
      "['bus\\\\00266887.jpg', 'bus\\\\00266893.jpg', 'bus\\\\00266981.jpg', 'bus\\\\00266999.jpg', 'bus\\\\00267010.jpg', 'bus\\\\00267066.jpg', 'bus\\\\00267088.jpg', 'bus\\\\00267105.jpg', 'bus\\\\00267154.jpg', 'bus\\\\00267174.jpg', 'bus\\\\00267222.jpg', 'bus\\\\00267263.jpg', 'bus\\\\00267265.jpg', 'bus\\\\00267267.jpg', 'bus\\\\00267353.jpg', 'bus\\\\00267357.jpg', 'bus\\\\00267361.jpg', 'bus\\\\00267422.jpg', 'bus\\\\00267493.jpg', 'bus\\\\00267582.jpg', 'car\\\\00000004.jpg', 'car\\\\00000006.jpg', 'car\\\\00000008.jpg', 'car\\\\00000011.jpg', 'car\\\\00000012.jpg', 'car\\\\00000013.jpg', 'car\\\\00000016.jpg', 'car\\\\00000017.jpg', 'car\\\\00000021.jpg', 'car\\\\00000022.jpg', 'car\\\\00000027.jpg', 'car\\\\00000030.jpg', 'car\\\\00000031.jpg', 'car\\\\00000036.jpg', 'car\\\\00000037.jpg', 'car\\\\00000041.jpg', 'car\\\\00000042.jpg', 'car\\\\00000050.jpg', 'car\\\\00000052.jpg', 'car\\\\00000053.jpg']\n"
     ]
    }
   ],
   "source": [
    "print(testBatches.class_indices)\n",
    "print(testBatches.filenames)"
   ]
  },
  {
   "cell_type": "code",
   "execution_count": 23,
   "metadata": {},
   "outputs": [
    {
     "name": "stdout",
     "output_type": "stream",
     "text": [
      "[[1.00000000e+00 5.95498848e-15]\n",
      " [1.00000000e+00 1.48939290e-23]\n",
      " [2.32126094e-05 9.99976754e-01]\n",
      " [1.00000000e+00 3.80520183e-29]\n",
      " [1.00000000e+00 7.44792030e-22]\n",
      " [1.00000000e+00 1.01478360e-22]\n",
      " [1.57603225e-07 9.99999881e-01]\n",
      " [1.00000000e+00 4.62884535e-21]\n",
      " [1.67309278e-10 1.00000000e+00]\n",
      " [3.82803761e-18 1.00000000e+00]\n",
      " [2.59221747e-06 9.99997377e-01]\n",
      " [5.81530628e-24 1.00000000e+00]\n",
      " [1.23121054e-03 9.98768747e-01]\n",
      " [1.13174991e-07 9.99999881e-01]\n",
      " [1.71824952e-03 9.98281717e-01]\n",
      " [9.99999881e-01 1.36489987e-07]\n",
      " [1.29823325e-17 1.00000000e+00]\n",
      " [1.00000000e+00 3.97919436e-25]\n",
      " [2.62073679e-22 1.00000000e+00]\n",
      " [1.00000000e+00 6.95104022e-17]\n",
      " [1.00000000e+00 3.94605037e-22]\n",
      " [1.00000000e+00 1.25981614e-09]\n",
      " [5.10774786e-03 9.94892240e-01]\n",
      " [1.11172074e-06 9.99998927e-01]\n",
      " [9.88610268e-01 1.13897501e-02]\n",
      " [1.54612736e-14 1.00000000e+00]\n",
      " [8.11015683e-14 1.00000000e+00]\n",
      " [2.84296160e-21 1.00000000e+00]\n",
      " [9.97526109e-01 2.47391127e-03]\n",
      " [1.00000000e+00 1.77550231e-11]\n",
      " [9.16542483e-16 1.00000000e+00]\n",
      " [2.43929321e-07 9.99999762e-01]\n",
      " [1.00000000e+00 4.72905891e-30]\n",
      " [1.26795765e-08 1.00000000e+00]\n",
      " [1.00000000e+00 1.79145216e-23]\n",
      " [1.00000000e+00 2.87200956e-22]\n",
      " [1.00000000e+00 2.88617324e-10]\n",
      " [1.00000000e+00 1.96649337e-12]\n",
      " [9.99863625e-01 1.36343719e-04]\n",
      " [9.99876738e-01 1.23210441e-04]]\n",
      "[0 0 1 0 0 0 1 0 1 1 1 1 1 1 1 0 1 0 1 0 0 0 1 1 0 1 1 1 0 0 1 1 0 1 0 0 0\n",
      " 0 0 0]\n"
     ]
    }
   ],
   "source": [
    "print(pred)\n",
    "print(np.argmax(pred, axis = 1))"
   ]
  },
  {
   "cell_type": "code",
   "execution_count": 1,
   "metadata": {},
   "outputs": [
    {
     "ename": "NameError",
     "evalue": "name 'model' is not defined",
     "output_type": "error",
     "traceback": [
      "\u001b[1;31m---------------------------------------------------------------------------\u001b[0m",
      "\u001b[1;31mNameError\u001b[0m                                 Traceback (most recent call last)",
      "\u001b[1;32m<ipython-input-1-fd41bef77986>\u001b[0m in \u001b[0;36m<module>\u001b[1;34m()\u001b[0m\n\u001b[1;32m----> 1\u001b[1;33m \u001b[0mmodel\u001b[0m\u001b[1;33m.\u001b[0m\u001b[0msave\u001b[0m\u001b[1;33m(\u001b[0m\u001b[1;34m'G:\\Photographs\\MIO_TCV_Classif\\models\\\\vgg16_car_bus_model.h5'\u001b[0m\u001b[1;33m)\u001b[0m\u001b[1;33m\u001b[0m\u001b[0m\n\u001b[0m",
      "\u001b[1;31mNameError\u001b[0m: name 'model' is not defined"
     ]
    }
   ],
   "source": [
    "model.save('G:\\Photographs\\MIO_TCV_Classif\\models\\\\vgg16_car_bus_model.h5')\n"
   ]
  },
  {
   "cell_type": "code",
   "execution_count": null,
   "metadata": {},
   "outputs": [],
   "source": [
    "from keras.models import load_model\n",
    "new_model = load_model('G:\\Photographs\\MIO_TCV_Classif\\models\\\\vgg16_car_bus_model.h5')"
   ]
  },
  {
   "cell_type": "code",
   "execution_count": 8,
   "metadata": {},
   "outputs": [
    {
     "name": "stdout",
     "output_type": "stream",
     "text": [
      "[1, 2]\n"
     ]
    }
   ],
   "source": [
    "%matplotlib inline\n",
    "from sklearn.metrics import confusion_matrix\n",
    "import itertools\n",
    "import matplotlib.pyplot as plt\n",
    "\n",
    "cm = confusion_matrix()"
   ]
  },
  {
   "cell_type": "code",
   "execution_count": 9,
   "metadata": {},
   "outputs": [
    {
     "name": "stderr",
     "output_type": "stream",
     "text": [
      "Using TensorFlow backend.\n"
     ]
    },
    {
     "name": "stdout",
     "output_type": "stream",
     "text": [
      "3333\n",
      "Downloading data from https://github.com/fchollet/deep-learning-models/releases/download/v0.2/resnet50_weights_tf_dim_ordering_tf_kernels.h5\n",
      "102858752/102853048 [==============================] - 18s 0us/step\n",
      "Downloading data from https://s3.amazonaws.com/deep-learning-models/image-models/imagenet_class_index.json\n",
      "40960/35363 [==================================] - 0s 0us/step\n",
      "Predicted: [('n02999410', 'chain', 0.25826386), ('n04553703', 'washbasin', 0.10540018), ('n03843555', 'oil_filter', 0.09782306)]\n",
      "Predicted: [('n03494278', 'harmonica', 0.68325967), ('n03372029', 'flute', 0.089222156), ('n02999410', 'chain', 0.046479024)]\n",
      "Predicted: [('n02999410', 'chain', 0.1003754), ('n03843555', 'oil_filter', 0.09939975), ('n03208938', 'disk_brake', 0.095128454)]\n",
      "Predicted: [('n03602883', 'joystick', 0.32939747), ('n03297495', 'espresso_maker', 0.059334505), ('n03868863', 'oxygen_mask', 0.04691177)]\n",
      "Predicted: [('n04336792', 'stretcher', 0.08592688), ('n03062245', 'cocktail_shaker', 0.076317266), ('n03764736', 'milk_can', 0.07123232)]\n",
      "Predicted: [('n01855032', 'red-breasted_merganser', 0.11681791), ('n04252077', 'snowmobile', 0.09753113), ('n03792782', 'mountain_bike', 0.09670719)]\n",
      "Predicted: [('n01873310', 'platypus', 0.9004493), ('n01641577', 'bullfrog', 0.071758345), ('n01644900', 'tailed_frog', 0.01891671)]\n",
      "Predicted: [('n03492542', 'hard_disc', 0.26181975), ('n01873310', 'platypus', 0.17102344), ('n02999410', 'chain', 0.078086965)]\n",
      "Predicted: [('n02999410', 'chain', 0.22897232), ('n01632458', 'spotted_salamander', 0.10411967), ('n02951585', 'can_opener', 0.091934726)]\n",
      "Predicted: [('n01873310', 'platypus', 0.9340189), ('n01855032', 'red-breasted_merganser', 0.009249632), ('n01773549', 'barn_spider', 0.008412324)]\n",
      "Predicted: [('n02326432', 'hare', 0.39009106), ('n02447366', 'badger', 0.22038756), ('n02445715', 'skunk', 0.14108707)]\n",
      "Predicted: [('n03843555', 'oil_filter', 0.16458723), ('n02999410', 'chain', 0.081733756), ('n04008634', 'projectile', 0.05767816)]\n",
      "Predicted: [('n02655020', 'puffer', 0.09526919), ('n02264363', 'lacewing', 0.053946882), ('n02526121', 'eel', 0.034843367)]\n",
      "Predicted: [('n01873310', 'platypus', 0.06950789), ('n04273569', 'speedboat', 0.06025693), ('n02860847', 'bobsled', 0.05612408)]\n",
      "Predicted: [('n02860847', 'bobsled', 0.14056888), ('n04037443', 'racer', 0.07303199), ('n04040759', 'radiator', 0.048305348)]\n",
      "Predicted: [('n03868863', 'oxygen_mask', 0.17380083), ('n03843555', 'oil_filter', 0.10017943), ('n04553703', 'washbasin', 0.09160311)]\n",
      "Predicted: [('n02447366', 'badger', 0.17819013), ('n01873310', 'platypus', 0.1534812), ('n02326432', 'hare', 0.14618948)]\n",
      "Predicted: [('n02447366', 'badger', 0.09040125), ('n02113186', 'Cardigan', 0.07511886), ('n01950731', 'sea_slug', 0.055268135)]\n",
      "Predicted: [('n02860847', 'bobsled', 0.17113411), ('n01496331', 'electric_ray', 0.094691105), ('n01494475', 'hammerhead', 0.058470342)]\n",
      "Predicted: [('n02500267', 'indri', 0.23085824), ('n02494079', 'squirrel_monkey', 0.05797162), ('n02951585', 'can_opener', 0.04619968)]\n",
      "Predicted: [('n02447366', 'badger', 0.88498807), ('n02445715', 'skunk', 0.082638174), ('n02326432', 'hare', 0.009186328)]\n",
      "Predicted: [('n04273569', 'speedboat', 0.12133055), ('n04228054', 'ski', 0.04262447), ('n04589890', 'window_screen', 0.04245052)]\n",
      "Predicted: [('n04228054', 'ski', 0.36185998), ('n04273569', 'speedboat', 0.21435444), ('n03868863', 'oxygen_mask', 0.12126328)]\n",
      "Predicted: [('n02443484', 'black-footed_ferret', 0.11370804), ('n02443114', 'polecat', 0.07224446), ('n01608432', 'kite', 0.049790878)]\n",
      "Predicted: [('n01873310', 'platypus', 0.3927398), ('n01855032', 'red-breasted_merganser', 0.27321783), ('n04252077', 'snowmobile', 0.021500109)]\n",
      "Predicted: [('n02447366', 'badger', 0.18583262), ('n02500267', 'indri', 0.15103072), ('n02443114', 'polecat', 0.066888675)]\n",
      "Predicted: [('n02445715', 'skunk', 0.68862796), ('n02447366', 'badger', 0.24721642), ('n02483362', 'gibbon', 0.019710347)]\n",
      "Predicted: [('n02447366', 'badger', 0.71849686), ('n02445715', 'skunk', 0.27649), ('n02500267', 'indri', 0.0017860511)]\n",
      "Predicted: [('n04273569', 'speedboat', 0.52153546), ('n02860847', 'bobsled', 0.1622692), ('n02879718', 'bow', 0.07328094)]\n",
      "Predicted: [('n02086910', 'papillon', 0.18003152), ('n01644900', 'tailed_frog', 0.0989579), ('n02087046', 'toy_terrier', 0.06276886)]\n",
      "Predicted: [('n03666591', 'lighter', 0.19825263), ('n04273569', 'speedboat', 0.13564806), ('n03794056', 'mousetrap', 0.11621307)]\n",
      "Predicted: [('n01749939', 'green_mamba', 0.09988355), ('n01739381', 'vine_snake', 0.080510326), ('n01694178', 'African_chameleon', 0.05667543)]\n",
      "Predicted: [('n01608432', 'kite', 0.36829397), ('n02492035', 'capuchin', 0.11560454), ('n02493509', 'titi', 0.08522388)]\n",
      "Predicted: [('n01873310', 'platypus', 0.35238054), ('n01630670', 'common_newt', 0.07456472), ('n01773549', 'barn_spider', 0.06266362)]\n",
      "Predicted: [('n04311174', 'steel_drum', 0.45280355), ('n03868863', 'oxygen_mask', 0.20603512), ('n03187595', 'dial_telephone', 0.15427741)]\n",
      "Predicted: [('n01632458', 'spotted_salamander', 0.19139397), ('n03868863', 'oxygen_mask', 0.11487028), ('n01873310', 'platypus', 0.058115244)]\n",
      "Predicted: [('n01873310', 'platypus', 0.30841237), ('n04273569', 'speedboat', 0.14747731), ('n04252077', 'snowmobile', 0.07313541)]\n",
      "Predicted: [('n01873310', 'platypus', 0.94990194), ('n01855032', 'red-breasted_merganser', 0.0071341265), ('n02219486', 'ant', 0.0030066215)]\n",
      "Predicted: [('n01873310', 'platypus', 0.62077177), ('n01855032', 'red-breasted_merganser', 0.032785688), ('n02363005', 'beaver', 0.01835333)]\n",
      "Predicted: [('n03868863', 'oxygen_mask', 0.91707844), ('n03424325', 'gasmask', 0.04178325), ('n02087046', 'toy_terrier', 0.005967201)]\n",
      "Predicted: [('n03868863', 'oxygen_mask', 0.26536143), ('n01873310', 'platypus', 0.18881206), ('n02687172', 'aircraft_carrier', 0.09526846)]\n",
      "Predicted: [('n04252077', 'snowmobile', 0.25701863), ('n03127747', 'crash_helmet', 0.13965654), ('n02835271', 'bicycle-built-for-two', 0.12836337)]\n",
      "Predicted: [('n04347754', 'submarine', 0.118231654), ('n01873310', 'platypus', 0.044349432), ('n02917067', 'bullet_train', 0.044090055)]\n",
      "Predicted: [('n01873310', 'platypus', 0.89316106), ('n02363005', 'beaver', 0.02726546), ('n01751748', 'sea_snake', 0.012926913)]\n",
      "Predicted: [('n03785016', 'moped', 0.35156906), ('n02835271', 'bicycle-built-for-two', 0.1567239), ('n03791053', 'motor_scooter', 0.12929668)]\n",
      "Predicted: [('n04501370', 'turnstile', 0.041940477), ('n02977058', 'cash_machine', 0.03903355), ('n02815834', 'beaker', 0.028369658)]\n",
      "Predicted: [('n01641577', 'bullfrog', 0.21284421), ('n01873310', 'platypus', 0.16826719), ('n02445715', 'skunk', 0.04776089)]\n",
      "Predicted: [('n02445715', 'skunk', 0.46798527), ('n02447366', 'badger', 0.052427884), ('n02483708', 'siamang', 0.04596712)]\n",
      "Predicted: [('n04589890', 'window_screen', 0.54220784), ('n01667778', 'terrapin', 0.026116475), ('n03782006', 'monitor', 0.02240512)]\n",
      "Predicted: [('n02999410', 'chain', 0.22021043), ('n03532672', 'hook', 0.14604367), ('n03868863', 'oxygen_mask', 0.097217515)]\n",
      "Predicted: [('n02701002', 'ambulance', 0.21207927), ('n01873310', 'platypus', 0.17005965), ('n04228054', 'ski', 0.14209734)]\n",
      "Predicted: [('n01773549', 'barn_spider', 0.1219937), ('n01873310', 'platypus', 0.107878596), ('n01751748', 'sea_snake', 0.07765477)]\n",
      "Predicted: [('n01873310', 'platypus', 0.5583788), ('n01773549', 'barn_spider', 0.29252592), ('n03868863', 'oxygen_mask', 0.011878123)]\n",
      "Predicted: [('n03888257', 'parachute', 0.5999625), ('n04228054', 'ski', 0.05482566), ('n03944341', 'pinwheel', 0.046557456)]\n",
      "Predicted: [('n02977058', 'cash_machine', 0.082046434), ('n04589890', 'window_screen', 0.052811947), ('n03764736', 'milk_can', 0.04894616)]\n",
      "Predicted: [('n01873310', 'platypus', 0.3791562), ('n04273569', 'speedboat', 0.10335575), ('n02326432', 'hare', 0.03888677)]\n",
      "Predicted: [('n04589890', 'window_screen', 0.12739271), ('n02483362', 'gibbon', 0.07567622), ('n01667778', 'terrapin', 0.0497545)]\n",
      "Predicted: [('n03920288', 'Petri_dish', 0.13199113), ('n03445777', 'golf_ball', 0.08003332), ('n02815834', 'beaker', 0.068914905)]\n",
      "Predicted: [('n01751748', 'sea_snake', 0.2070378), ('n04553703', 'washbasin', 0.069779076), ('n04273569', 'speedboat', 0.05225872)]\n",
      "Predicted: [('n03843555', 'oil_filter', 0.2591622), ('n01751748', 'sea_snake', 0.14717452), ('n04553703', 'washbasin', 0.06620024)]\n",
      "Predicted: [('n03602883', 'joystick', 0.10594883), ('n02655020', 'puffer', 0.080410644), ('n04228054', 'ski', 0.061389014)]\n",
      "Predicted: [('n03868863', 'oxygen_mask', 0.3557344), ('n02807133', 'bathing_cap', 0.14957573), ('n04251144', 'snorkel', 0.1269739)]\n",
      "Predicted: [('n01873310', 'platypus', 0.8377127), ('n04553703', 'washbasin', 0.015878106), ('n03794056', 'mousetrap', 0.009379092)]\n"
     ]
    },
    {
     "name": "stdout",
     "output_type": "stream",
     "text": [
      "Predicted: [('n02999410', 'chain', 0.41293746), ('n04553703', 'washbasin', 0.23906098), ('n03075370', 'combination_lock', 0.04030093)]\n",
      "Predicted: [('n02114367', 'timber_wolf', 0.11230681), ('n01873310', 'platypus', 0.107319), ('n02483708', 'siamang', 0.047371686)]\n",
      "Predicted: [('n02086910', 'papillon', 0.5620571), ('n02085620', 'Chihuahua', 0.1624093), ('n02087046', 'toy_terrier', 0.062139004)]\n",
      "Predicted: [('n04008634', 'projectile', 0.06481554), ('n04273569', 'speedboat', 0.05679234), ('n02445715', 'skunk', 0.052851893)]\n",
      "Predicted: [('n01873310', 'platypus', 0.5457395), ('n02167151', 'ground_beetle', 0.23008294), ('n01630670', 'common_newt', 0.045288906)]\n",
      "Predicted: [('n01873310', 'platypus', 0.3356815), ('n02445715', 'skunk', 0.0543984), ('n01773549', 'barn_spider', 0.05047309)]\n",
      "Predicted: [('n01873310', 'platypus', 0.18901844), ('n02483362', 'gibbon', 0.1450607), ('n02447366', 'badger', 0.13141912)]\n",
      "Predicted: [('n01873310', 'platypus', 0.8791707), ('n01773549', 'barn_spider', 0.018799532), ('n02483708', 'siamang', 0.0147272)]\n",
      "Predicted: [('n01873310', 'platypus', 0.26105264), ('n01630670', 'common_newt', 0.099687405), ('n02483362', 'gibbon', 0.060125362)]\n",
      "Predicted: [('n02835271', 'bicycle-built-for-two', 0.5231618), ('n03623198', 'knee_pad', 0.043962095), ('n03792782', 'mountain_bike', 0.0337641)]\n",
      "Predicted: [('n04509417', 'unicycle', 0.073953055), ('n04273569', 'speedboat', 0.053069122), ('n09332890', 'lakeside', 0.05218884)]\n",
      "Predicted: [('n01873310', 'platypus', 0.3051876), ('n03692522', 'loupe', 0.09602798), ('n01773549', 'barn_spider', 0.053907406)]\n",
      "Predicted: [('n03095699', 'container_ship', 0.058712132), ('n04372370', 'switch', 0.05672421), ('n02692877', 'airship', 0.05442237)]\n",
      "Predicted: [('n01873310', 'platypus', 0.89970845), ('n04252077', 'snowmobile', 0.0070275078), ('n02444819', 'otter', 0.0045205825)]\n",
      "Predicted: [('n01873310', 'platypus', 0.40521067), ('n04228054', 'ski', 0.071970806), ('n02114367', 'timber_wolf', 0.06994755)]\n",
      "Predicted: [('n02085782', 'Japanese_spaniel', 0.29381573), ('n02102480', 'Sussex_spaniel', 0.13897283), ('n02483708', 'siamang', 0.13745923)]\n",
      "Predicted: [('n04067472', 'reel', 0.30286795), ('n01773549', 'barn_spider', 0.22712442), ('n03602883', 'joystick', 0.047501333)]\n",
      "Predicted: [('n03868863', 'oxygen_mask', 0.19158997), ('n04579432', 'whistle', 0.13107514), ('n03666591', 'lighter', 0.077799335)]\n",
      "Predicted: [('n02951585', 'can_opener', 0.45100257), ('n03843555', 'oil_filter', 0.098952666), ('n04228054', 'ski', 0.048675213)]\n",
      "Predicted: [('n01873310', 'platypus', 0.80801696), ('n01644900', 'tailed_frog', 0.03921188), ('n01641577', 'bullfrog', 0.023781369)]\n",
      "Predicted: [('n01873310', 'platypus', 0.17296466), ('n01751748', 'sea_snake', 0.036577493), ('n01667778', 'terrapin', 0.03621859)]\n",
      "Predicted: [('n02701002', 'ambulance', 0.12002731), ('n04228054', 'ski', 0.037968248), ('n04273569', 'speedboat', 0.035179783)]\n",
      "Predicted: [('n02100735', 'English_setter', 0.4161716), ('n02088632', 'bluetick', 0.29741308), ('n02086910', 'papillon', 0.06663161)]\n",
      "Predicted: [('n03888257', 'parachute', 0.5343351), ('n02951585', 'can_opener', 0.09854304), ('n03982430', 'pool_table', 0.04868474)]\n",
      "Predicted: [('n04589890', 'window_screen', 0.08540448), ('n04228054', 'ski', 0.046120882), ('n01630670', 'common_newt', 0.039732132)]\n",
      "Predicted: [('n03347037', 'fire_screen', 0.10582808), ('n04589890', 'window_screen', 0.057343885), ('n03924679', 'photocopier', 0.05129443)]\n",
      "Predicted: [('n02782093', 'balloon', 0.08664095), ('n04273569', 'speedboat', 0.06774387), ('n03888257', 'parachute', 0.050832015)]\n",
      "Predicted: [('n02101006', 'Gordon_setter', 0.09715746), ('n01833805', 'hummingbird', 0.07132209), ('n02017213', 'European_gallinule', 0.05832962)]\n",
      "Predicted: [('n02445715', 'skunk', 0.17515114), ('n02447366', 'badger', 0.09441889), ('n02110185', 'Siberian_husky', 0.039785482)]\n",
      "Predicted: [('n03670208', 'limousine', 0.12478196), ('n02951585', 'can_opener', 0.116872415), ('n03100240', 'convertible', 0.059093382)]\n",
      "Predicted: [('n02835271', 'bicycle-built-for-two', 0.716618), ('n04482393', 'tricycle', 0.101384595), ('n03785016', 'moped', 0.03334031)]\n",
      "Predicted: [('n03843555', 'oil_filter', 0.2560954), ('n03062245', 'cocktail_shaker', 0.18864861), ('n02951585', 'can_opener', 0.10144465)]\n",
      "Predicted: [('n04285008', 'sports_car', 0.11315419), ('n04589890', 'window_screen', 0.056357276), ('n01873310', 'platypus', 0.052106798)]\n",
      "Predicted: [('n02445715', 'skunk', 0.45489758), ('n02860847', 'bobsled', 0.074421845), ('n02490219', 'marmoset', 0.06534736)]\n",
      "Predicted: [('n01644900', 'tailed_frog', 0.26695642), ('n01630670', 'common_newt', 0.25999612), ('n01641577', 'bullfrog', 0.19728974)]\n",
      "Predicted: [('n04589890', 'window_screen', 0.10002627), ('n02493509', 'titi', 0.084290996), ('n02484975', 'guenon', 0.043405302)]\n",
      "Predicted: [('n02835271', 'bicycle-built-for-two', 0.3857301), ('n03792782', 'mountain_bike', 0.25597182), ('n03785016', 'moped', 0.18932769)]\n",
      "Predicted: [('n03602883', 'joystick', 0.26228186), ('n03843555', 'oil_filter', 0.24204929), ('n04067472', 'reel', 0.13031605)]\n",
      "Predicted: [('n03868863', 'oxygen_mask', 0.10721415), ('n02089078', 'black-and-tan_coonhound', 0.062078435), ('n02107312', 'miniature_pinscher', 0.062070828)]\n",
      "Predicted: [('n03532672', 'hook', 0.13322055), ('n02999410', 'chain', 0.058188565), ('n03920288', 'Petri_dish', 0.048147243)]\n",
      "Predicted: [('n01773549', 'barn_spider', 0.047116302), ('n02106550', 'Rottweiler', 0.045613255), ('n03888257', 'parachute', 0.04336293)]\n",
      "Predicted: [('n02206856', 'bee', 0.13741872), ('n02219486', 'ant', 0.12945336), ('n02492660', 'howler_monkey', 0.046456996)]\n",
      "Predicted: [('n01873310', 'platypus', 0.14863537), ('n02445715', 'skunk', 0.071667016), ('n02860847', 'bobsled', 0.034393508)]\n",
      "Predicted: [('n03792782', 'mountain_bike', 0.12233793), ('n02835271', 'bicycle-built-for-two', 0.09447368), ('n04482393', 'tricycle', 0.073778115)]\n",
      "Predicted: [('n04251144', 'snorkel', 0.18819878), ('n03602883', 'joystick', 0.12925667), ('n01667778', 'terrapin', 0.07810544)]\n",
      "Predicted: [('n03888257', 'parachute', 0.1844572), ('n01644900', 'tailed_frog', 0.042677052), ('n01873310', 'platypus', 0.033303138)]\n",
      "Predicted: [('n04125021', 'safe', 0.11833489), ('n04070727', 'refrigerator', 0.10571565), ('n04265275', 'space_heater', 0.041584563)]\n",
      "Predicted: [('n01773549', 'barn_spider', 0.3812088), ('n01873310', 'platypus', 0.30831715), ('n02219486', 'ant', 0.04501912)]\n",
      "Predicted: [('n02835271', 'bicycle-built-for-two', 0.26549518), ('n03444034', 'go-kart', 0.1306562), ('n02951585', 'can_opener', 0.0830662)]\n",
      "Predicted: [('n02835271', 'bicycle-built-for-two', 0.25636685), ('n03208938', 'disk_brake', 0.11521357), ('n04482393', 'tricycle', 0.07865077)]\n",
      "Predicted: [('n02445715', 'skunk', 0.76328915), ('n02447366', 'badger', 0.16883714), ('n01873310', 'platypus', 0.01657604)]\n",
      "Predicted: [('n01873310', 'platypus', 0.3047278), ('n04228054', 'ski', 0.049396202), ('n04589890', 'window_screen', 0.04482116)]\n",
      "Predicted: [('n04067472', 'reel', 0.33845243), ('n03720891', 'maraca', 0.09134623), ('n03000684', 'chain_saw', 0.05234108)]\n",
      "Predicted: [('n01873310', 'platypus', 0.9497312), ('n01608432', 'kite', 0.0058668666), ('n02444819', 'otter', 0.0037446371)]\n",
      "Predicted: [('n02999410', 'chain', 0.46003148), ('n02951585', 'can_opener', 0.33483168), ('n01873310', 'platypus', 0.08506319)]\n",
      "Predicted: [('n01873310', 'platypus', 0.8705821), ('n04273569', 'speedboat', 0.02269805), ('n02860847', 'bobsled', 0.010622157)]\n",
      "Predicted: [('n01873310', 'platypus', 0.645076), ('n01641577', 'bullfrog', 0.05568831), ('n02363005', 'beaver', 0.02432269)]\n",
      "Predicted: [('n01873310', 'platypus', 0.31054154), ('n01855032', 'red-breasted_merganser', 0.08123369), ('n04228054', 'ski', 0.07669704)]\n",
      "Predicted: [('n02951585', 'can_opener', 0.12412788), ('n03127747', 'crash_helmet', 0.119546), ('n03692522', 'loupe', 0.105291925)]\n",
      "Predicted: [('n04485082', 'tripod', 0.16229585), ('n03602883', 'joystick', 0.1583365), ('n03297495', 'espresso_maker', 0.15249656)]\n",
      "Predicted: [('n03843555', 'oil_filter', 0.09178964), ('n02483708', 'siamang', 0.0603879), ('n03692522', 'loupe', 0.03847245)]\n",
      "Predicted: [('n04579432', 'whistle', 0.17545205), ('n01847000', 'drake', 0.091269836), ('n02951585', 'can_opener', 0.07592674)]\n",
      "Predicted: [('n01847000', 'drake', 0.07796965), ('n02363005', 'beaver', 0.07385869), ('n04228054', 'ski', 0.0701412)]\n",
      "Predicted: [('n04273569', 'speedboat', 0.3235024), ('n03062245', 'cocktail_shaker', 0.0324152), ('n02326432', 'hare', 0.032053612)]\n",
      "Predicted: [('n02999410', 'chain', 0.3379182), ('n02860847', 'bobsled', 0.1632961), ('n03532672', 'hook', 0.07469227)]\n"
     ]
    },
    {
     "name": "stdout",
     "output_type": "stream",
     "text": [
      "Predicted: [('n01873310', 'platypus', 0.5069658), ('n01630670', 'common_newt', 0.09730225), ('n02326432', 'hare', 0.04102358)]\n",
      "Predicted: [('n02860847', 'bobsled', 0.15368828), ('n04273569', 'speedboat', 0.14509219), ('n04037443', 'racer', 0.091307595)]\n",
      "Predicted: [('n04589890', 'window_screen', 0.7212042), ('n03388043', 'fountain', 0.014589774), ('n07730033', 'cardoon', 0.013617477)]\n",
      "Predicted: [('n04589890', 'window_screen', 0.1108537), ('n02326432', 'hare', 0.07232579), ('n02114367', 'timber_wolf', 0.059208862)]\n",
      "Predicted: [('n03602883', 'joystick', 0.22448406), ('n03888257', 'parachute', 0.06715121), ('n02860847', 'bobsled', 0.06637265)]\n",
      "Predicted: [('n01873310', 'platypus', 0.25192228), ('n04553703', 'washbasin', 0.14782907), ('n03843555', 'oil_filter', 0.09705112)]\n",
      "Predicted: [('n02493509', 'titi', 0.10699052), ('n04273569', 'speedboat', 0.084359705), ('n01873310', 'platypus', 0.072481796)]\n",
      "Predicted: [('n01608432', 'kite', 0.07076135), ('n09288635', 'geyser', 0.0610184), ('n03888257', 'parachute', 0.05950001)]\n",
      "Predicted: [('n02835271', 'bicycle-built-for-two', 0.890505), ('n03792782', 'mountain_bike', 0.10421245), ('n03208938', 'disk_brake', 0.0010483195)]\n",
      "Predicted: [('n03196217', 'digital_clock', 0.08712079), ('n02326432', 'hare', 0.06407049), ('n03134739', 'croquet_ball', 0.038726754)]\n",
      "Predicted: [('n02951585', 'can_opener', 0.34929165), ('n02445715', 'skunk', 0.08673231), ('n04266014', 'space_shuttle', 0.05769389)]\n",
      "Predicted: [('n04286575', 'spotlight', 0.07018636), ('n04553703', 'washbasin', 0.06665832), ('n09421951', 'sandbar', 0.052790362)]\n",
      "Predicted: [('n04482393', 'tricycle', 0.5205761), ('n03792782', 'mountain_bike', 0.19088763), ('n03785016', 'moped', 0.11165352)]\n",
      "Predicted: [('n03843555', 'oil_filter', 0.09128328), ('n01644900', 'tailed_frog', 0.06093322), ('n01641577', 'bullfrog', 0.0531673)]\n",
      "Predicted: [('n01751748', 'sea_snake', 0.6944064), ('n01873310', 'platypus', 0.060914204), ('n02999410', 'chain', 0.047681555)]\n",
      "Predicted: [('n09288635', 'geyser', 0.42900106), ('n03388043', 'fountain', 0.34448263), ('n03602883', 'joystick', 0.028934026)]\n",
      "Predicted: [('n01873310', 'platypus', 0.8105467), ('n01630670', 'common_newt', 0.08364114), ('n01632458', 'spotted_salamander', 0.018708587)]\n",
      "Predicted: [('n01873310', 'platypus', 0.2858181), ('n02999410', 'chain', 0.06905544), ('n03868863', 'oxygen_mask', 0.055888116)]\n",
      "Predicted: [('n01873310', 'platypus', 0.31214142), ('n01630670', 'common_newt', 0.2888585), ('n01644900', 'tailed_frog', 0.1398904)]\n",
      "Predicted: [('n01873310', 'platypus', 0.79135835), ('n02483708', 'siamang', 0.02656649), ('n01667778', 'terrapin', 0.024315856)]\n",
      "Predicted: [('n02860847', 'bobsled', 0.43499795), ('n04252077', 'snowmobile', 0.17661768), ('n02687172', 'aircraft_carrier', 0.100912526)]\n",
      "Predicted: [('n02951585', 'can_opener', 0.16053146), ('n01873310', 'platypus', 0.14285141), ('n04228054', 'ski', 0.09142556)]\n",
      "Predicted: [('n04579145', 'whiskey_jug', 0.04619349), ('n04229816', 'ski_mask', 0.03212342), ('n02791270', 'barbershop', 0.023851331)]\n",
      "Predicted: [('n02835271', 'bicycle-built-for-two', 0.4469178), ('n04482393', 'tricycle', 0.123772465), ('n02999410', 'chain', 0.10497132)]\n",
      "Predicted: [('n02835271', 'bicycle-built-for-two', 0.33297393), ('n01873310', 'platypus', 0.15406978), ('n02999410', 'chain', 0.078722596)]\n",
      "Predicted: [('n01773549', 'barn_spider', 0.13041942), ('n03532672', 'hook', 0.11203933), ('n03944341', 'pinwheel', 0.051588003)]\n",
      "Predicted: [('n02085782', 'Japanese_spaniel', 0.177943), ('n04409515', 'tennis_ball', 0.056722526), ('n02086910', 'papillon', 0.048594236)]\n",
      "Predicted: [('n02860847', 'bobsled', 0.2790868), ('n04273569', 'speedboat', 0.07901277), ('n04228054', 'ski', 0.048662573)]\n",
      "Predicted: [('n01873310', 'platypus', 0.43645275), ('n01491361', 'tiger_shark', 0.1512897), ('n02641379', 'gar', 0.096972525)]\n",
      "Predicted: [('n03868863', 'oxygen_mask', 0.55662775), ('n04336792', 'stretcher', 0.10924448), ('n04252077', 'snowmobile', 0.054104965)]\n",
      "Predicted: [('n01873310', 'platypus', 0.34751529), ('n04252077', 'snowmobile', 0.18702774), ('n04273569', 'speedboat', 0.07455437)]\n",
      "Predicted: [('n03649909', 'lawn_mower', 0.13543501), ('n03444034', 'go-kart', 0.13184598), ('n02835271', 'bicycle-built-for-two', 0.10947243)]\n",
      "Predicted: [('n01873310', 'platypus', 0.14963655), ('n03814639', 'neck_brace', 0.06721319), ('n02835271', 'bicycle-built-for-two', 0.065859765)]\n",
      "Predicted: [('n02951585', 'can_opener', 0.19535951), ('n03602883', 'joystick', 0.11385432), ('n04552348', 'warplane', 0.06853377)]\n",
      "Predicted: [('n01873310', 'platypus', 0.14099585), ('n02363005', 'beaver', 0.10395713), ('n03920288', 'Petri_dish', 0.08001034)]\n",
      "Predicted: [('n02701002', 'ambulance', 0.17604636), ('n04037443', 'racer', 0.15867239), ('n02363005', 'beaver', 0.117255375)]\n",
      "Predicted: [('n03843555', 'oil_filter', 0.6134706), ('n02841315', 'binoculars', 0.048580658), ('n04067472', 'reel', 0.04603439)]\n",
      "Predicted: [('n04536866', 'violin', 0.5003421), ('n03602883', 'joystick', 0.10887307), ('n03272010', 'electric_guitar', 0.048282653)]\n",
      "Predicted: [('n03785016', 'moped', 0.5468873), ('n03791053', 'motor_scooter', 0.368134), ('n02835271', 'bicycle-built-for-two', 0.064310856)]\n",
      "Predicted: [('n02951585', 'can_opener', 0.38798407), ('n03868863', 'oxygen_mask', 0.2618076), ('n02999410', 'chain', 0.03521204)]\n",
      "Predicted: [('n01873310', 'platypus', 0.86408377), ('n02999410', 'chain', 0.033501863), ('n02860847', 'bobsled', 0.015586099)]\n",
      "Predicted: [('n02105641', 'Old_English_sheepdog', 0.5535881), ('n04008634', 'projectile', 0.0484863), ('n02692877', 'airship', 0.022574505)]\n",
      "Predicted: [('n01873310', 'platypus', 0.14766836), ('n02999410', 'chain', 0.0926734), ('n02835271', 'bicycle-built-for-two', 0.0600308)]\n",
      "Predicted: [('n07760859', 'custard_apple', 0.062653996), ('n04553703', 'washbasin', 0.058664475), ('n02120079', 'Arctic_fox', 0.04841925)]\n",
      "Predicted: [('n02999410', 'chain', 0.3727153), ('n02445715', 'skunk', 0.26099598), ('n02951585', 'can_opener', 0.096947394)]\n",
      "Predicted: [('n02268853', 'damselfly', 0.20761923), ('n01873310', 'platypus', 0.17151366), ('n02268443', 'dragonfly', 0.116870396)]\n",
      "Predicted: [('n04273569', 'speedboat', 0.48610473), ('n02445715', 'skunk', 0.17302522), ('n04252077', 'snowmobile', 0.118658386)]\n",
      "Predicted: [('n04008634', 'projectile', 0.2694816), ('n02687172', 'aircraft_carrier', 0.046426054), ('n03670208', 'limousine', 0.037787624)]\n",
      "Predicted: [('n04067472', 'reel', 0.37034672), ('n03602883', 'joystick', 0.099400565), ('n01537544', 'indigo_bunting', 0.06901069)]\n",
      "Predicted: [('n03868863', 'oxygen_mask', 0.99099016), ('n02835271', 'bicycle-built-for-two', 0.0015378653), ('n03424325', 'gasmask', 0.0011115263)]\n",
      "Predicted: [('n01855032', 'red-breasted_merganser', 0.062781036), ('n02100735', 'English_setter', 0.055147268), ('n02086910', 'papillon', 0.041790962)]\n",
      "Predicted: [('n01855032', 'red-breasted_merganser', 0.2187491), ('n04552348', 'warplane', 0.07156801), ('n03602883', 'joystick', 0.040374484)]\n",
      "Predicted: [('n02835271', 'bicycle-built-for-two', 0.38333222), ('n01873310', 'platypus', 0.084355205), ('n04509417', 'unicycle', 0.025377871)]\n",
      "Predicted: [('n01873310', 'platypus', 0.72322273), ('n04228054', 'ski', 0.11913021), ('n02860847', 'bobsled', 0.020530794)]\n",
      "Predicted: [('n02835271', 'bicycle-built-for-two', 0.326729), ('n04067472', 'reel', 0.30299592), ('n03208938', 'disk_brake', 0.036124736)]\n",
      "Predicted: [('n04589890', 'window_screen', 0.12702979), ('n03868863', 'oxygen_mask', 0.065977424), ('n09288635', 'geyser', 0.045200575)]\n",
      "Predicted: [('n03868863', 'oxygen_mask', 0.38632804), ('n02951585', 'can_opener', 0.29347548), ('n03692522', 'loupe', 0.06551983)]\n",
      "Predicted: [('n02494079', 'squirrel_monkey', 0.34306833), ('n02493509', 'titi', 0.29507598), ('n02493793', 'spider_monkey', 0.06529777)]\n",
      "Predicted: [('n02086910', 'papillon', 0.4636664), ('n02085782', 'Japanese_spaniel', 0.08083266), ('n02086646', 'Blenheim_spaniel', 0.07460571)]\n",
      "Predicted: [('n01751748', 'sea_snake', 0.109547965), ('n02483362', 'gibbon', 0.05999399), ('n02483708', 'siamang', 0.05263834)]\n",
      "Predicted: [('n04273569', 'speedboat', 0.18365395), ('n04037443', 'racer', 0.06585575), ('n03100240', 'convertible', 0.052375924)]\n",
      "Predicted: [('n03794056', 'mousetrap', 0.08634579), ('n04589890', 'window_screen', 0.059068713), ('n01667778', 'terrapin', 0.05628834)]\n",
      "Predicted: [('n02860847', 'bobsled', 0.175119), ('n04039381', 'racket', 0.067579836), ('n04228054', 'ski', 0.067458525)]\n",
      "Predicted: [('n04228054', 'ski', 0.2679348), ('n01873310', 'platypus', 0.18533318), ('n04251144', 'snorkel', 0.084959246)]\n",
      "Predicted: [('n01873310', 'platypus', 0.40292737), ('n01641577', 'bullfrog', 0.077967025), ('n01644900', 'tailed_frog', 0.06284942)]\n"
     ]
    },
    {
     "name": "stdout",
     "output_type": "stream",
     "text": [
      "Predicted: [('n01873310', 'platypus', 0.19715025), ('n03444034', 'go-kart', 0.14656314), ('n03492542', 'hard_disc', 0.101376966)]\n",
      "Predicted: [('n01873310', 'platypus', 0.86588883), ('n02999410', 'chain', 0.03219484), ('n01773549', 'barn_spider', 0.0122371605)]\n",
      "Predicted: [('n01873310', 'platypus', 0.26312873), ('n02326432', 'hare', 0.071500435), ('n01667778', 'terrapin', 0.05047566)]\n",
      "Predicted: [('n01873310', 'platypus', 0.40761137), ('n01641577', 'bullfrog', 0.16229285), ('n01644900', 'tailed_frog', 0.12940422)]\n",
      "Predicted: [('n01873310', 'platypus', 0.7824793), ('n01630670', 'common_newt', 0.05258156), ('n01644900', 'tailed_frog', 0.01789402)]\n",
      "Predicted: [('n01873310', 'platypus', 0.18271264), ('n01630670', 'common_newt', 0.088092566), ('n02999410', 'chain', 0.08589776)]\n",
      "Predicted: [('n01873310', 'platypus', 0.72477597), ('n01667778', 'terrapin', 0.017333962), ('n02442845', 'mink', 0.0155385975)]\n",
      "Predicted: [('n01873310', 'platypus', 0.9398915), ('n01630670', 'common_newt', 0.01721097), ('n01644900', 'tailed_frog', 0.014711584)]\n",
      "Predicted: [('n03792782', 'mountain_bike', 0.23080023), ('n02835271', 'bicycle-built-for-two', 0.10741507), ('n03785016', 'moped', 0.081497446)]\n",
      "Predicted: [('n01608432', 'kite', 0.1761948), ('n01873310', 'platypus', 0.119682096), ('n04273569', 'speedboat', 0.060406398)]\n",
      "Predicted: [('n03785016', 'moped', 0.86086005), ('n03791053', 'motor_scooter', 0.07405202), ('n03127747', 'crash_helmet', 0.028202187)]\n",
      "Predicted: [('n02835271', 'bicycle-built-for-two', 0.5050284), ('n03792782', 'mountain_bike', 0.20070757), ('n03868863', 'oxygen_mask', 0.10814833)]\n",
      "Predicted: [('n04273569', 'speedboat', 0.57190204), ('n02860847', 'bobsled', 0.09390057), ('n04228054', 'ski', 0.08995888)]\n",
      "Predicted: [('n04273569', 'speedboat', 0.22983103), ('n04251144', 'snorkel', 0.22263329), ('n03444034', 'go-kart', 0.13344036)]\n",
      "Predicted: [('n03785016', 'moped', 0.5888492), ('n03792782', 'mountain_bike', 0.14833379), ('n03075370', 'combination_lock', 0.0837855)]\n",
      "Predicted: [('n04589890', 'window_screen', 0.54569346), ('n03942813', 'ping-pong_ball', 0.02425864), ('n03347037', 'fire_screen', 0.01748588)]\n",
      "Predicted: [('n01873310', 'platypus', 0.98289293), ('n01644900', 'tailed_frog', 0.0019271492), ('n03868863', 'oxygen_mask', 0.0012953125)]\n",
      "Predicted: [('n01873310', 'platypus', 0.8039922), ('n03444034', 'go-kart', 0.07898063), ('n02363005', 'beaver', 0.023681404)]\n",
      "Predicted: [('n04589890', 'window_screen', 0.11821849), ('n04371774', 'swing', 0.06293875), ('n04604644', 'worm_fence', 0.04444877)]\n",
      "Predicted: [('n09332890', 'lakeside', 0.17454652), ('n01751748', 'sea_snake', 0.1600466), ('n02445715', 'skunk', 0.079165295)]\n",
      "Predicted: [('n04553703', 'washbasin', 0.31034812), ('n04019541', 'puck', 0.043117967), ('n02120079', 'Arctic_fox', 0.04236231)]\n",
      "Predicted: [('n01873310', 'platypus', 0.1847151), ('n04228054', 'ski', 0.12520662), ('n04336792', 'stretcher', 0.04603677)]\n",
      "Predicted: [('n01873310', 'platypus', 0.16443266), ('n04037443', 'racer', 0.118766166), ('n03444034', 'go-kart', 0.09574735)]\n",
      "Predicted: [('n01644900', 'tailed_frog', 0.0963844), ('n01641577', 'bullfrog', 0.07197386), ('n01873310', 'platypus', 0.070850074)]\n",
      "Predicted: [('n01751748', 'sea_snake', 0.45004335), ('n04228054', 'ski', 0.034342036), ('n04273569', 'speedboat', 0.031737424)]\n",
      "Predicted: [('n03602883', 'joystick', 0.12745178), ('n03944341', 'pinwheel', 0.10437722), ('n03476684', 'hair_slide', 0.0631737)]\n",
      "Predicted: [('n01873310', 'platypus', 0.40369615), ('n01773549', 'barn_spider', 0.17597736), ('n02219486', 'ant', 0.058647122)]\n",
      "Predicted: [('n04273569', 'speedboat', 0.25976798), ('n02066245', 'grey_whale', 0.088691734), ('n01873310', 'platypus', 0.06526398)]\n",
      "Predicted: [('n02086910', 'papillon', 0.24857539), ('n02100735', 'English_setter', 0.12549153), ('n02085782', 'Japanese_spaniel', 0.07825226)]\n",
      "Predicted: [('n01641577', 'bullfrog', 0.3902637), ('n01644900', 'tailed_frog', 0.16590334), ('n01873310', 'platypus', 0.10681738)]\n",
      "Predicted: [('n02951585', 'can_opener', 0.47802573), ('n03602883', 'joystick', 0.17997687), ('n04552348', 'warplane', 0.031422324)]\n",
      "Predicted: [('n02999410', 'chain', 0.12645282), ('n02951585', 'can_opener', 0.09379694), ('n04067472', 'reel', 0.072449386)]\n",
      "Predicted: [('n01873310', 'platypus', 0.29262626), ('n01667778', 'terrapin', 0.048004385), ('n02951585', 'can_opener', 0.041038718)]\n",
      "Predicted: [('n04228054', 'ski', 0.23007649), ('n01773549', 'barn_spider', 0.16558991), ('n03888257', 'parachute', 0.13732901)]\n",
      "Predicted: [('n03868863', 'oxygen_mask', 0.7486146), ('n03424325', 'gasmask', 0.10329546), ('n04336792', 'stretcher', 0.024240278)]\n",
      "Predicted: [('n01873310', 'platypus', 0.4764459), ('n02066245', 'grey_whale', 0.17604005), ('n03868863', 'oxygen_mask', 0.017447872)]\n",
      "Predicted: [('n02494079', 'squirrel_monkey', 0.2666209), ('n02493509', 'titi', 0.15400916), ('n02493793', 'spider_monkey', 0.120327055)]\n",
      "Predicted: [('n04409515', 'tennis_ball', 0.2737964), ('n02114367', 'timber_wolf', 0.046362773), ('n02105641', 'Old_English_sheepdog', 0.03384843)]\n",
      "Predicted: [('n03075370', 'combination_lock', 0.092671156), ('n01873310', 'platypus', 0.062989496), ('n02999410', 'chain', 0.053614262)]\n",
      "Predicted: [('n04336792', 'stretcher', 0.30799678), ('n02835271', 'bicycle-built-for-two', 0.07962523), ('n04552348', 'warplane', 0.043859012)]\n",
      "Predicted: [('n04273569', 'speedboat', 0.2690833), ('n03444034', 'go-kart', 0.20298538), ('n02860847', 'bobsled', 0.13717803)]\n",
      "Predicted: [('n02120079', 'Arctic_fox', 0.6374003), ('n02114548', 'white_wolf', 0.13041781), ('n02326432', 'hare', 0.032319486)]\n",
      "Predicted: [('n01873310', 'platypus', 0.44935024), ('n02999410', 'chain', 0.39283583), ('n01855032', 'red-breasted_merganser', 0.042147562)]\n",
      "Predicted: [('n01873310', 'platypus', 0.12450794), ('n03868863', 'oxygen_mask', 0.10902301), ('n03843555', 'oil_filter', 0.090512715)]\n",
      "Predicted: [('n02999410', 'chain', 0.47178042), ('n02860847', 'bobsled', 0.06029556), ('n01773549', 'barn_spider', 0.028765785)]\n",
      "Predicted: [('n01873310', 'platypus', 0.13644907), ('n02483362', 'gibbon', 0.060421135), ('n02326432', 'hare', 0.048075303)]\n",
      "Predicted: [('n01855032', 'red-breasted_merganser', 0.16647466), ('n02086910', 'papillon', 0.12582535), ('n04273569', 'speedboat', 0.060469877)]\n",
      "Predicted: [('n04589890', 'window_screen', 0.2901), ('n02086240', 'Shih-Tzu', 0.0702121), ('n01641577', 'bullfrog', 0.043334104)]\n",
      "Predicted: [('n03868863', 'oxygen_mask', 0.2921427), ('n03803284', 'muzzle', 0.20638855), ('n02951585', 'can_opener', 0.121631026)]\n",
      "Predicted: [('n01873310', 'platypus', 0.41869387), ('n01484850', 'great_white_shark', 0.06924494), ('n01630670', 'common_newt', 0.05646616)]\n",
      "Predicted: [('n04273569', 'speedboat', 0.101136506), ('n02494079', 'squirrel_monkey', 0.09445821), ('n02481823', 'chimpanzee', 0.07476829)]\n",
      "Predicted: [('n04008634', 'projectile', 0.79768974), ('n03773504', 'missile', 0.17616297), ('n04228054', 'ski', 0.012539886)]\n",
      "Predicted: [('n03761084', 'microwave', 0.18486312), ('n04111531', 'rotisserie', 0.1408175), ('n04442312', 'toaster', 0.07946361)]\n",
      "Predicted: [('n03602883', 'joystick', 0.73655796), ('n04273569', 'speedboat', 0.075691506), ('n04259630', 'sombrero', 0.047456425)]\n",
      "Predicted: [('n01873310', 'platypus', 0.24765395), ('n04228054', 'ski', 0.23373772), ('n01773549', 'barn_spider', 0.12953828)]\n",
      "Predicted: [('n01873310', 'platypus', 0.27397192), ('n01630670', 'common_newt', 0.22439808), ('n02445715', 'skunk', 0.20478533)]\n",
      "Predicted: [('n04409515', 'tennis_ball', 0.84989285), ('n04039381', 'racket', 0.061802685), ('n04509417', 'unicycle', 0.031141583)]\n",
      "Predicted: [('n02363005', 'beaver', 0.7379908), ('n09332890', 'lakeside', 0.08861757), ('n01855032', 'red-breasted_merganser', 0.04894599)]\n",
      "Predicted: [('n04067472', 'reel', 0.21672988), ('n03791053', 'motor_scooter', 0.18625322), ('n03127747', 'crash_helmet', 0.11776311)]\n",
      "Predicted: [('n04067472', 'reel', 0.21590841), ('n02835271', 'bicycle-built-for-two', 0.14095889), ('n03792782', 'mountain_bike', 0.06139927)]\n",
      "Predicted: [('n12620546', 'hip', 0.20759396), ('n02860847', 'bobsled', 0.10434261), ('n04273569', 'speedboat', 0.09668509)]\n",
      "Predicted: [('n04476259', 'tray', 0.128901), ('n03347037', 'fire_screen', 0.059749056), ('n03207941', 'dishwasher', 0.058835384)]\n"
     ]
    },
    {
     "name": "stdout",
     "output_type": "stream",
     "text": [
      "Predicted: [('n02085936', 'Maltese_dog', 0.07873531), ('n03602883', 'joystick', 0.06908994), ('n02445715', 'skunk', 0.06740139)]\n",
      "Predicted: [('n03843555', 'oil_filter', 0.07014847), ('n02687172', 'aircraft_carrier', 0.067598715), ('n04389033', 'tank', 0.057323523)]\n",
      "Predicted: [('n03444034', 'go-kart', 0.33532333), ('n03208938', 'disk_brake', 0.18846619), ('n02999410', 'chain', 0.062712245)]\n",
      "Predicted: [('n01751748', 'sea_snake', 0.36779937), ('n01873310', 'platypus', 0.14955367), ('n03868863', 'oxygen_mask', 0.07530523)]\n",
      "Predicted: [('n02860847', 'bobsled', 0.2267152), ('n02086910', 'papillon', 0.16492845), ('n03602883', 'joystick', 0.09656729)]\n",
      "Predicted: [('n02483708', 'siamang', 0.07758583), ('n04589890', 'window_screen', 0.05226389), ('n01873310', 'platypus', 0.04236012)]\n",
      "Predicted: [('n04252077', 'snowmobile', 0.4141889), ('n02860847', 'bobsled', 0.18461329), ('n02835271', 'bicycle-built-for-two', 0.06770959)]\n",
      "Predicted: [('n03868863', 'oxygen_mask', 0.5849298), ('n03208938', 'disk_brake', 0.05000539), ('n04209133', 'shower_cap', 0.038038634)]\n",
      "Predicted: [('n01873310', 'platypus', 0.76236814), ('n02363005', 'beaver', 0.015083391), ('n01855032', 'red-breasted_merganser', 0.014459327)]\n",
      "Predicted: [('n02447366', 'badger', 0.42439193), ('n01873310', 'platypus', 0.2361644), ('n02445715', 'skunk', 0.048085842)]\n",
      "Predicted: [('n02091134', 'whippet', 0.19483191), ('n02100735', 'English_setter', 0.104581214), ('n02099712', 'Labrador_retriever', 0.062757075)]\n",
      "Predicted: [('n01873310', 'platypus', 0.23238897), ('n03843555', 'oil_filter', 0.0905464), ('n01773549', 'barn_spider', 0.06844017)]\n",
      "Predicted: [('n04273569', 'speedboat', 0.23967986), ('n04252077', 'snowmobile', 0.11409731), ('n03843555', 'oil_filter', 0.06287106)]\n",
      "Predicted: [('n01751748', 'sea_snake', 0.117284566), ('n01873310', 'platypus', 0.109787315), ('n03444034', 'go-kart', 0.07716271)]\n",
      "Predicted: [('n02326432', 'hare', 0.08819015), ('n03633091', 'ladle', 0.07909616), ('n02483708', 'siamang', 0.036308564)]\n",
      "Predicted: [('n01873310', 'platypus', 0.29824746), ('n02445715', 'skunk', 0.072885565), ('n02066245', 'grey_whale', 0.04430751)]\n",
      "Predicted: [('n02999410', 'chain', 0.30092654), ('n01873310', 'platypus', 0.108075164), ('n03602883', 'joystick', 0.071465686)]\n",
      "Predicted: [('n02101006', 'Gordon_setter', 0.05863623), ('n01873310', 'platypus', 0.050702523), ('n02087046', 'toy_terrier', 0.04809342)]\n",
      "Predicted: [('n02101006', 'Gordon_setter', 0.04457164), ('n02087046', 'toy_terrier', 0.038348693), ('n09288635', 'geyser', 0.03708527)]\n",
      "Predicted: [('n02835271', 'bicycle-built-for-two', 0.36756346), ('n02999410', 'chain', 0.084306985), ('n04086273', 'revolver', 0.07361701)]\n",
      "Predicted: [('n03344393', 'fireboat', 0.2423425), ('n03602883', 'joystick', 0.13551879), ('n03388043', 'fountain', 0.0742608)]\n",
      "Predicted: [('n04067472', 'reel', 0.34852165), ('n02835271', 'bicycle-built-for-two', 0.13643904), ('n04252077', 'snowmobile', 0.086854726)]\n",
      "Predicted: [('n01873310', 'platypus', 0.6612077), ('n01737021', 'water_snake', 0.08233568), ('n01641577', 'bullfrog', 0.048934735)]\n",
      "Predicted: [('n01608432', 'kite', 0.133695), ('n04252077', 'snowmobile', 0.1087197), ('n01855032', 'red-breasted_merganser', 0.07806631)]\n",
      "Predicted: [('n04273569', 'speedboat', 0.38801715), ('n03444034', 'go-kart', 0.18208559), ('n01873310', 'platypus', 0.081624664)]\n",
      "Predicted: [('n01873310', 'platypus', 0.9709929), ('n01855032', 'red-breasted_merganser', 0.0058621583), ('n02363005', 'beaver', 0.0041054594)]\n",
      "Predicted: [('n04067472', 'reel', 0.27407667), ('n03649909', 'lawn_mower', 0.109319285), ('n03843555', 'oil_filter', 0.1001822)]\n",
      "Predicted: [('n02951585', 'can_opener', 0.30754173), ('n03843555', 'oil_filter', 0.15037581), ('n03666591', 'lighter', 0.064893864)]\n",
      "Predicted: [('n02951585', 'can_opener', 0.10944675), ('n04254120', 'soap_dispenser', 0.0714082), ('n03888257', 'parachute', 0.07049969)]\n",
      "Predicted: [('n02100735', 'English_setter', 0.15987408), ('n02086910', 'papillon', 0.13737084), ('n02085782', 'Japanese_spaniel', 0.10552928)]\n",
      "Predicted: [('n01873310', 'platypus', 0.29429162), ('n01751748', 'sea_snake', 0.18844578), ('n02445715', 'skunk', 0.050814047)]\n",
      "Predicted: [('n02445715', 'skunk', 0.19034123), ('n02951585', 'can_opener', 0.07004614), ('n03868863', 'oxygen_mask', 0.053832278)]\n",
      "Predicted: [('n02835271', 'bicycle-built-for-two', 0.33220062), ('n03843555', 'oil_filter', 0.07993386), ('n02951585', 'can_opener', 0.06545943)]\n",
      "Predicted: [('n04372370', 'switch', 0.057889614), ('n03602883', 'joystick', 0.053582177), ('n04009552', 'projector', 0.038490802)]\n",
      "Predicted: [('n03868863', 'oxygen_mask', 0.47347054), ('n01873310', 'platypus', 0.14443119), ('n03424325', 'gasmask', 0.076558545)]\n",
      "Predicted: [('n09332890', 'lakeside', 0.1098237), ('n02483708', 'siamang', 0.043093793), ('n04228054', 'ski', 0.04138701)]\n",
      "Predicted: [('n03476684', 'hair_slide', 0.19775163), ('n04228054', 'ski', 0.12362937), ('n03944341', 'pinwheel', 0.10750611)]\n",
      "Predicted: [('n02489166', 'proboscis_monkey', 0.10582018), ('n03494278', 'harmonica', 0.070497185), ('n03666591', 'lighter', 0.068887144)]\n",
      "Predicted: [('n01873310', 'platypus', 0.34296155), ('n02326432', 'hare', 0.19030339), ('n02483708', 'siamang', 0.051104043)]\n",
      "Predicted: [('n04273569', 'speedboat', 0.10017444), ('n02493509', 'titi', 0.09261061), ('n02494079', 'squirrel_monkey', 0.05981113)]\n",
      "Predicted: [('n03444034', 'go-kart', 0.08820629), ('n01873310', 'platypus', 0.033962753), ('n04589890', 'window_screen', 0.03379081)]\n",
      "Predicted: [('n02860847', 'bobsled', 0.49518463), ('n04251144', 'snorkel', 0.1413911), ('n04336792', 'stretcher', 0.09059081)]\n",
      "Predicted: [('n02486261', 'patas', 0.18735261), ('n01873310', 'platypus', 0.13801254), ('n03868863', 'oxygen_mask', 0.11716313)]\n",
      "Predicted: [('n04228054', 'ski', 0.18403105), ('n03444034', 'go-kart', 0.10807207), ('n03791053', 'motor_scooter', 0.034828417)]\n",
      "Predicted: [('n02226429', 'grasshopper', 0.13350514), ('n01873310', 'platypus', 0.12208525), ('n02951585', 'can_opener', 0.110593595)]\n",
      "Predicted: [('n01873310', 'platypus', 0.86483413), ('n01855032', 'red-breasted_merganser', 0.032452147), ('n04273569', 'speedboat', 0.024178289)]\n",
      "Predicted: [('n04442312', 'toaster', 0.05520282), ('n04008634', 'projectile', 0.042483207), ('n02815834', 'beaker', 0.041992106)]\n",
      "Predicted: [('n04273569', 'speedboat', 0.12331629), ('n01873310', 'platypus', 0.08150837), ('n02066245', 'grey_whale', 0.052022297)]\n"
     ]
    }
   ],
   "source": [
    "import tensorflow as tf\n",
    "from keras.applications.resnet50 import ResNet50\n",
    "from keras.preprocessing import image\n",
    "from keras.applications.resnet50 import preprocess_input, decode_predictions\n",
    "import numpy as np\n",
    "import glob\n",
    "print('3333')\n",
    "model = ResNet50(weights='imagenet')\n",
    "\n",
    "#path = \"O:\\\\Photographs\\\\RedNet\"\n",
    "path = \"G:\\\\Photographs\\\\MIO_TCV_Classif\\\\test\\\\bicycle\\\\\"\n",
    "images_path = glob.glob(path + \"*.jpg\")\n",
    "\n",
    "\n",
    "for img_path in images_path:\n",
    "    img = image.load_img(img_path, target_size=(224, 224))\n",
    "    x = image.img_to_array(img)\n",
    "    x = np.expand_dims(x, axis=0)\n",
    "    x = preprocess_input(x)\n",
    "    \n",
    "    preds = model.predict(x)\n",
    "    # decode the results into a list of tuples (class, description, probability)\n",
    "    # (one such list for each sample in the batch)\n",
    "    print('Predicted:', decode_predictions(preds, top=3)[0])"
   ]
  },
  {
   "cell_type": "code",
   "execution_count": 29,
   "metadata": {},
   "outputs": [
    {
     "name": "stdout",
     "output_type": "stream",
     "text": [
      "_________________________________________________________________\n",
      "Layer (type)                 Output Shape              Param #   \n",
      "=================================================================\n",
      "zero_padding2d_9 (ZeroPaddin (None, 5, 226, 224)       0         \n",
      "_________________________________________________________________\n",
      "conv2d_9 (Conv2D)            (None, 3, 224, 64)        129088    \n",
      "_________________________________________________________________\n",
      "zero_padding2d_10 (ZeroPaddi (None, 5, 226, 64)        0         \n",
      "_________________________________________________________________\n",
      "conv2d_10 (Conv2D)           (None, 3, 224, 64)        36928     \n",
      "_________________________________________________________________\n",
      "max_pooling2d_5 (MaxPooling2 (None, 1, 112, 64)        0         \n",
      "_________________________________________________________________\n",
      "zero_padding2d_11 (ZeroPaddi (None, 3, 114, 64)        0         \n",
      "_________________________________________________________________\n",
      "conv2d_11 (Conv2D)           (None, 1, 112, 128)       73856     \n",
      "_________________________________________________________________\n",
      "zero_padding2d_12 (ZeroPaddi (None, 3, 114, 128)       0         \n",
      "_________________________________________________________________\n",
      "conv2d_12 (Conv2D)           (None, 1, 112, 128)       147584    \n",
      "=================================================================\n",
      "Total params: 387,456\n",
      "Trainable params: 387,456\n",
      "Non-trainable params: 0\n",
      "_________________________________________________________________\n"
     ]
    },
    {
     "name": "stderr",
     "output_type": "stream",
     "text": [
      "F:\\Anaconda\\lib\\site-packages\\ipykernel_launcher.py:18: UserWarning: Update your `Conv2D` call to the Keras 2 API: `Conv2D(64, (3, 3), activation=\"relu\")`\n",
      "F:\\Anaconda\\lib\\site-packages\\ipykernel_launcher.py:20: UserWarning: Update your `Conv2D` call to the Keras 2 API: `Conv2D(64, (3, 3), activation=\"relu\")`\n",
      "F:\\Anaconda\\lib\\site-packages\\ipykernel_launcher.py:24: UserWarning: Update your `Conv2D` call to the Keras 2 API: `Conv2D(128, (3, 3), activation=\"relu\")`\n",
      "F:\\Anaconda\\lib\\site-packages\\ipykernel_launcher.py:26: UserWarning: Update your `Conv2D` call to the Keras 2 API: `Conv2D(128, (3, 3), activation=\"relu\")`\n"
     ]
    },
    {
     "ename": "ValueError",
     "evalue": "Negative dimension size caused by subtracting 2 from 1 for 'max_pooling2d_6/MaxPool' (op: 'MaxPool') with input shapes: [?,1,112,128].",
     "output_type": "error",
     "traceback": [
      "\u001b[1;31m---------------------------------------------------------------------------\u001b[0m",
      "\u001b[1;31mInvalidArgumentError\u001b[0m                      Traceback (most recent call last)",
      "\u001b[1;32mF:\\Anaconda\\lib\\site-packages\\tensorflow\\python\\framework\\ops.py\u001b[0m in \u001b[0;36m_create_c_op\u001b[1;34m(graph, node_def, inputs, control_inputs)\u001b[0m\n\u001b[0;32m   1627\u001b[0m   \u001b[1;32mtry\u001b[0m\u001b[1;33m:\u001b[0m\u001b[1;33m\u001b[0m\u001b[0m\n\u001b[1;32m-> 1628\u001b[1;33m     \u001b[0mc_op\u001b[0m \u001b[1;33m=\u001b[0m \u001b[0mc_api\u001b[0m\u001b[1;33m.\u001b[0m\u001b[0mTF_FinishOperation\u001b[0m\u001b[1;33m(\u001b[0m\u001b[0mop_desc\u001b[0m\u001b[1;33m)\u001b[0m\u001b[1;33m\u001b[0m\u001b[0m\n\u001b[0m\u001b[0;32m   1629\u001b[0m   \u001b[1;32mexcept\u001b[0m \u001b[0merrors\u001b[0m\u001b[1;33m.\u001b[0m\u001b[0mInvalidArgumentError\u001b[0m \u001b[1;32mas\u001b[0m \u001b[0me\u001b[0m\u001b[1;33m:\u001b[0m\u001b[1;33m\u001b[0m\u001b[0m\n",
      "\u001b[1;31mInvalidArgumentError\u001b[0m: Negative dimension size caused by subtracting 2 from 1 for 'max_pooling2d_6/MaxPool' (op: 'MaxPool') with input shapes: [?,1,112,128].",
      "\nDuring handling of the above exception, another exception occurred:\n",
      "\u001b[1;31mValueError\u001b[0m                                Traceback (most recent call last)",
      "\u001b[1;32m<ipython-input-29-91a1840eee8f>\u001b[0m in \u001b[0;36m<module>\u001b[1;34m()\u001b[0m\n\u001b[0;32m     26\u001b[0m \u001b[0mmodel2\u001b[0m\u001b[1;33m.\u001b[0m\u001b[0madd\u001b[0m\u001b[1;33m(\u001b[0m\u001b[0mConvolution2D\u001b[0m\u001b[1;33m(\u001b[0m\u001b[1;36m128\u001b[0m\u001b[1;33m,\u001b[0m \u001b[1;36m3\u001b[0m\u001b[1;33m,\u001b[0m \u001b[1;36m3\u001b[0m\u001b[1;33m,\u001b[0m \u001b[0mactivation\u001b[0m\u001b[1;33m=\u001b[0m\u001b[1;34m'relu'\u001b[0m\u001b[1;33m)\u001b[0m\u001b[1;33m)\u001b[0m\u001b[1;33m\u001b[0m\u001b[0m\n\u001b[0;32m     27\u001b[0m \u001b[0mmodel2\u001b[0m\u001b[1;33m.\u001b[0m\u001b[0msummary\u001b[0m\u001b[1;33m(\u001b[0m\u001b[1;33m)\u001b[0m\u001b[1;33m\u001b[0m\u001b[0m\n\u001b[1;32m---> 28\u001b[1;33m \u001b[0mmodel2\u001b[0m\u001b[1;33m.\u001b[0m\u001b[0madd\u001b[0m\u001b[1;33m(\u001b[0m\u001b[0mMaxPooling2D\u001b[0m\u001b[1;33m(\u001b[0m\u001b[1;33m(\u001b[0m\u001b[1;36m2\u001b[0m\u001b[1;33m,\u001b[0m \u001b[1;36m2\u001b[0m\u001b[1;33m)\u001b[0m\u001b[1;33m,\u001b[0m \u001b[0mstrides\u001b[0m\u001b[1;33m=\u001b[0m\u001b[1;33m(\u001b[0m\u001b[1;36m2\u001b[0m\u001b[1;33m,\u001b[0m \u001b[1;36m2\u001b[0m\u001b[1;33m)\u001b[0m\u001b[1;33m)\u001b[0m\u001b[1;33m)\u001b[0m\u001b[1;33m\u001b[0m\u001b[0m\n\u001b[0m\u001b[0;32m     29\u001b[0m \u001b[1;33m\u001b[0m\u001b[0m\n\u001b[0;32m     30\u001b[0m \u001b[0mmodel2\u001b[0m\u001b[1;33m.\u001b[0m\u001b[0madd\u001b[0m\u001b[1;33m(\u001b[0m\u001b[0mZeroPadding2D\u001b[0m\u001b[1;33m(\u001b[0m\u001b[1;33m(\u001b[0m\u001b[1;36m1\u001b[0m\u001b[1;33m,\u001b[0m \u001b[1;36m1\u001b[0m\u001b[1;33m)\u001b[0m\u001b[1;33m)\u001b[0m\u001b[1;33m)\u001b[0m\u001b[1;33m\u001b[0m\u001b[0m\n",
      "\u001b[1;32mF:\\Anaconda\\lib\\site-packages\\keras\\engine\\sequential.py\u001b[0m in \u001b[0;36madd\u001b[1;34m(self, layer)\u001b[0m\n\u001b[0;32m    179\u001b[0m                 \u001b[0mself\u001b[0m\u001b[1;33m.\u001b[0m\u001b[0minputs\u001b[0m \u001b[1;33m=\u001b[0m \u001b[0mnetwork\u001b[0m\u001b[1;33m.\u001b[0m\u001b[0mget_source_inputs\u001b[0m\u001b[1;33m(\u001b[0m\u001b[0mself\u001b[0m\u001b[1;33m.\u001b[0m\u001b[0moutputs\u001b[0m\u001b[1;33m[\u001b[0m\u001b[1;36m0\u001b[0m\u001b[1;33m]\u001b[0m\u001b[1;33m)\u001b[0m\u001b[1;33m\u001b[0m\u001b[0m\n\u001b[0;32m    180\u001b[0m         \u001b[1;32melif\u001b[0m \u001b[0mself\u001b[0m\u001b[1;33m.\u001b[0m\u001b[0moutputs\u001b[0m\u001b[1;33m:\u001b[0m\u001b[1;33m\u001b[0m\u001b[0m\n\u001b[1;32m--> 181\u001b[1;33m             \u001b[0moutput_tensor\u001b[0m \u001b[1;33m=\u001b[0m \u001b[0mlayer\u001b[0m\u001b[1;33m(\u001b[0m\u001b[0mself\u001b[0m\u001b[1;33m.\u001b[0m\u001b[0moutputs\u001b[0m\u001b[1;33m[\u001b[0m\u001b[1;36m0\u001b[0m\u001b[1;33m]\u001b[0m\u001b[1;33m)\u001b[0m\u001b[1;33m\u001b[0m\u001b[0m\n\u001b[0m\u001b[0;32m    182\u001b[0m             \u001b[1;32mif\u001b[0m \u001b[0misinstance\u001b[0m\u001b[1;33m(\u001b[0m\u001b[0moutput_tensor\u001b[0m\u001b[1;33m,\u001b[0m \u001b[0mlist\u001b[0m\u001b[1;33m)\u001b[0m\u001b[1;33m:\u001b[0m\u001b[1;33m\u001b[0m\u001b[0m\n\u001b[0;32m    183\u001b[0m                 raise TypeError('All layers in a Sequential model '\n",
      "\u001b[1;32mF:\\Anaconda\\lib\\site-packages\\keras\\engine\\base_layer.py\u001b[0m in \u001b[0;36m__call__\u001b[1;34m(self, inputs, **kwargs)\u001b[0m\n\u001b[0;32m    455\u001b[0m             \u001b[1;31m# Actually call the layer,\u001b[0m\u001b[1;33m\u001b[0m\u001b[1;33m\u001b[0m\u001b[0m\n\u001b[0;32m    456\u001b[0m             \u001b[1;31m# collecting output(s), mask(s), and shape(s).\u001b[0m\u001b[1;33m\u001b[0m\u001b[1;33m\u001b[0m\u001b[0m\n\u001b[1;32m--> 457\u001b[1;33m             \u001b[0moutput\u001b[0m \u001b[1;33m=\u001b[0m \u001b[0mself\u001b[0m\u001b[1;33m.\u001b[0m\u001b[0mcall\u001b[0m\u001b[1;33m(\u001b[0m\u001b[0minputs\u001b[0m\u001b[1;33m,\u001b[0m \u001b[1;33m**\u001b[0m\u001b[0mkwargs\u001b[0m\u001b[1;33m)\u001b[0m\u001b[1;33m\u001b[0m\u001b[0m\n\u001b[0m\u001b[0;32m    458\u001b[0m             \u001b[0moutput_mask\u001b[0m \u001b[1;33m=\u001b[0m \u001b[0mself\u001b[0m\u001b[1;33m.\u001b[0m\u001b[0mcompute_mask\u001b[0m\u001b[1;33m(\u001b[0m\u001b[0minputs\u001b[0m\u001b[1;33m,\u001b[0m \u001b[0mprevious_mask\u001b[0m\u001b[1;33m)\u001b[0m\u001b[1;33m\u001b[0m\u001b[0m\n\u001b[0;32m    459\u001b[0m \u001b[1;33m\u001b[0m\u001b[0m\n",
      "\u001b[1;32mF:\\Anaconda\\lib\\site-packages\\keras\\layers\\pooling.py\u001b[0m in \u001b[0;36mcall\u001b[1;34m(self, inputs)\u001b[0m\n\u001b[0;32m    203\u001b[0m                                         \u001b[0mstrides\u001b[0m\u001b[1;33m=\u001b[0m\u001b[0mself\u001b[0m\u001b[1;33m.\u001b[0m\u001b[0mstrides\u001b[0m\u001b[1;33m,\u001b[0m\u001b[1;33m\u001b[0m\u001b[0m\n\u001b[0;32m    204\u001b[0m                                         \u001b[0mpadding\u001b[0m\u001b[1;33m=\u001b[0m\u001b[0mself\u001b[0m\u001b[1;33m.\u001b[0m\u001b[0mpadding\u001b[0m\u001b[1;33m,\u001b[0m\u001b[1;33m\u001b[0m\u001b[0m\n\u001b[1;32m--> 205\u001b[1;33m                                         data_format=self.data_format)\n\u001b[0m\u001b[0;32m    206\u001b[0m         \u001b[1;32mreturn\u001b[0m \u001b[0moutput\u001b[0m\u001b[1;33m\u001b[0m\u001b[0m\n\u001b[0;32m    207\u001b[0m \u001b[1;33m\u001b[0m\u001b[0m\n",
      "\u001b[1;32mF:\\Anaconda\\lib\\site-packages\\keras\\layers\\pooling.py\u001b[0m in \u001b[0;36m_pooling_function\u001b[1;34m(self, inputs, pool_size, strides, padding, data_format)\u001b[0m\n\u001b[0;32m    266\u001b[0m         output = K.pool2d(inputs, pool_size, strides,\n\u001b[0;32m    267\u001b[0m                           \u001b[0mpadding\u001b[0m\u001b[1;33m,\u001b[0m \u001b[0mdata_format\u001b[0m\u001b[1;33m,\u001b[0m\u001b[1;33m\u001b[0m\u001b[0m\n\u001b[1;32m--> 268\u001b[1;33m                           pool_mode='max')\n\u001b[0m\u001b[0;32m    269\u001b[0m         \u001b[1;32mreturn\u001b[0m \u001b[0moutput\u001b[0m\u001b[1;33m\u001b[0m\u001b[0m\n\u001b[0;32m    270\u001b[0m \u001b[1;33m\u001b[0m\u001b[0m\n",
      "\u001b[1;32mF:\\Anaconda\\lib\\site-packages\\keras\\backend\\tensorflow_backend.py\u001b[0m in \u001b[0;36mpool2d\u001b[1;34m(x, pool_size, strides, padding, data_format, pool_mode)\u001b[0m\n\u001b[0;32m   3976\u001b[0m         x = tf.nn.max_pool(x, pool_size, strides,\n\u001b[0;32m   3977\u001b[0m                            \u001b[0mpadding\u001b[0m\u001b[1;33m=\u001b[0m\u001b[0mpadding\u001b[0m\u001b[1;33m,\u001b[0m\u001b[1;33m\u001b[0m\u001b[0m\n\u001b[1;32m-> 3978\u001b[1;33m                            data_format=tf_data_format)\n\u001b[0m\u001b[0;32m   3979\u001b[0m     \u001b[1;32melif\u001b[0m \u001b[0mpool_mode\u001b[0m \u001b[1;33m==\u001b[0m \u001b[1;34m'avg'\u001b[0m\u001b[1;33m:\u001b[0m\u001b[1;33m\u001b[0m\u001b[0m\n\u001b[0;32m   3980\u001b[0m         x = tf.nn.avg_pool(x, pool_size, strides,\n",
      "\u001b[1;32mF:\\Anaconda\\lib\\site-packages\\tensorflow\\python\\ops\\nn_ops.py\u001b[0m in \u001b[0;36mmax_pool\u001b[1;34m(value, ksize, strides, padding, data_format, name)\u001b[0m\n\u001b[0;32m   2138\u001b[0m         \u001b[0mpadding\u001b[0m\u001b[1;33m=\u001b[0m\u001b[0mpadding\u001b[0m\u001b[1;33m,\u001b[0m\u001b[1;33m\u001b[0m\u001b[0m\n\u001b[0;32m   2139\u001b[0m         \u001b[0mdata_format\u001b[0m\u001b[1;33m=\u001b[0m\u001b[0mdata_format\u001b[0m\u001b[1;33m,\u001b[0m\u001b[1;33m\u001b[0m\u001b[0m\n\u001b[1;32m-> 2140\u001b[1;33m         name=name)\n\u001b[0m\u001b[0;32m   2141\u001b[0m \u001b[1;33m\u001b[0m\u001b[0m\n\u001b[0;32m   2142\u001b[0m \u001b[1;33m\u001b[0m\u001b[0m\n",
      "\u001b[1;32mF:\\Anaconda\\lib\\site-packages\\tensorflow\\python\\ops\\gen_nn_ops.py\u001b[0m in \u001b[0;36mmax_pool\u001b[1;34m(input, ksize, strides, padding, data_format, name)\u001b[0m\n\u001b[0;32m   5081\u001b[0m     _, _, _op = _op_def_lib._apply_op_helper(\n\u001b[0;32m   5082\u001b[0m         \u001b[1;34m\"MaxPool\"\u001b[0m\u001b[1;33m,\u001b[0m \u001b[0minput\u001b[0m\u001b[1;33m=\u001b[0m\u001b[0minput\u001b[0m\u001b[1;33m,\u001b[0m \u001b[0mksize\u001b[0m\u001b[1;33m=\u001b[0m\u001b[0mksize\u001b[0m\u001b[1;33m,\u001b[0m \u001b[0mstrides\u001b[0m\u001b[1;33m=\u001b[0m\u001b[0mstrides\u001b[0m\u001b[1;33m,\u001b[0m \u001b[0mpadding\u001b[0m\u001b[1;33m=\u001b[0m\u001b[0mpadding\u001b[0m\u001b[1;33m,\u001b[0m\u001b[1;33m\u001b[0m\u001b[0m\n\u001b[1;32m-> 5083\u001b[1;33m         data_format=data_format, name=name)\n\u001b[0m\u001b[0;32m   5084\u001b[0m     \u001b[0m_result\u001b[0m \u001b[1;33m=\u001b[0m \u001b[0m_op\u001b[0m\u001b[1;33m.\u001b[0m\u001b[0moutputs\u001b[0m\u001b[1;33m[\u001b[0m\u001b[1;33m:\u001b[0m\u001b[1;33m]\u001b[0m\u001b[1;33m\u001b[0m\u001b[0m\n\u001b[0;32m   5085\u001b[0m     \u001b[0m_inputs_flat\u001b[0m \u001b[1;33m=\u001b[0m \u001b[0m_op\u001b[0m\u001b[1;33m.\u001b[0m\u001b[0minputs\u001b[0m\u001b[1;33m\u001b[0m\u001b[0m\n",
      "\u001b[1;32mF:\\Anaconda\\lib\\site-packages\\tensorflow\\python\\framework\\op_def_library.py\u001b[0m in \u001b[0;36m_apply_op_helper\u001b[1;34m(self, op_type_name, name, **keywords)\u001b[0m\n\u001b[0;32m    785\u001b[0m         op = g.create_op(op_type_name, inputs, output_types, name=scope,\n\u001b[0;32m    786\u001b[0m                          \u001b[0minput_types\u001b[0m\u001b[1;33m=\u001b[0m\u001b[0minput_types\u001b[0m\u001b[1;33m,\u001b[0m \u001b[0mattrs\u001b[0m\u001b[1;33m=\u001b[0m\u001b[0mattr_protos\u001b[0m\u001b[1;33m,\u001b[0m\u001b[1;33m\u001b[0m\u001b[0m\n\u001b[1;32m--> 787\u001b[1;33m                          op_def=op_def)\n\u001b[0m\u001b[0;32m    788\u001b[0m       \u001b[1;32mreturn\u001b[0m \u001b[0moutput_structure\u001b[0m\u001b[1;33m,\u001b[0m \u001b[0mop_def\u001b[0m\u001b[1;33m.\u001b[0m\u001b[0mis_stateful\u001b[0m\u001b[1;33m,\u001b[0m \u001b[0mop\u001b[0m\u001b[1;33m\u001b[0m\u001b[0m\n\u001b[0;32m    789\u001b[0m \u001b[1;33m\u001b[0m\u001b[0m\n",
      "\u001b[1;32mF:\\Anaconda\\lib\\site-packages\\tensorflow\\python\\util\\deprecation.py\u001b[0m in \u001b[0;36mnew_func\u001b[1;34m(*args, **kwargs)\u001b[0m\n\u001b[0;32m    486\u001b[0m                 \u001b[1;34m'in a future version'\u001b[0m \u001b[1;32mif\u001b[0m \u001b[0mdate\u001b[0m \u001b[1;32mis\u001b[0m \u001b[1;32mNone\u001b[0m \u001b[1;32melse\u001b[0m \u001b[1;33m(\u001b[0m\u001b[1;34m'after %s'\u001b[0m \u001b[1;33m%\u001b[0m \u001b[0mdate\u001b[0m\u001b[1;33m)\u001b[0m\u001b[1;33m,\u001b[0m\u001b[1;33m\u001b[0m\u001b[0m\n\u001b[0;32m    487\u001b[0m                 instructions)\n\u001b[1;32m--> 488\u001b[1;33m       \u001b[1;32mreturn\u001b[0m \u001b[0mfunc\u001b[0m\u001b[1;33m(\u001b[0m\u001b[1;33m*\u001b[0m\u001b[0margs\u001b[0m\u001b[1;33m,\u001b[0m \u001b[1;33m**\u001b[0m\u001b[0mkwargs\u001b[0m\u001b[1;33m)\u001b[0m\u001b[1;33m\u001b[0m\u001b[0m\n\u001b[0m\u001b[0;32m    489\u001b[0m     return tf_decorator.make_decorator(func, new_func, 'deprecated',\n\u001b[0;32m    490\u001b[0m                                        _add_deprecated_arg_notice_to_docstring(\n",
      "\u001b[1;32mF:\\Anaconda\\lib\\site-packages\\tensorflow\\python\\framework\\ops.py\u001b[0m in \u001b[0;36mcreate_op\u001b[1;34m(***failed resolving arguments***)\u001b[0m\n\u001b[0;32m   3272\u001b[0m           \u001b[0minput_types\u001b[0m\u001b[1;33m=\u001b[0m\u001b[0minput_types\u001b[0m\u001b[1;33m,\u001b[0m\u001b[1;33m\u001b[0m\u001b[0m\n\u001b[0;32m   3273\u001b[0m           \u001b[0moriginal_op\u001b[0m\u001b[1;33m=\u001b[0m\u001b[0mself\u001b[0m\u001b[1;33m.\u001b[0m\u001b[0m_default_original_op\u001b[0m\u001b[1;33m,\u001b[0m\u001b[1;33m\u001b[0m\u001b[0m\n\u001b[1;32m-> 3274\u001b[1;33m           op_def=op_def)\n\u001b[0m\u001b[0;32m   3275\u001b[0m       \u001b[0mself\u001b[0m\u001b[1;33m.\u001b[0m\u001b[0m_create_op_helper\u001b[0m\u001b[1;33m(\u001b[0m\u001b[0mret\u001b[0m\u001b[1;33m,\u001b[0m \u001b[0mcompute_device\u001b[0m\u001b[1;33m=\u001b[0m\u001b[0mcompute_device\u001b[0m\u001b[1;33m)\u001b[0m\u001b[1;33m\u001b[0m\u001b[0m\n\u001b[0;32m   3276\u001b[0m     \u001b[1;32mreturn\u001b[0m \u001b[0mret\u001b[0m\u001b[1;33m\u001b[0m\u001b[0m\n",
      "\u001b[1;32mF:\\Anaconda\\lib\\site-packages\\tensorflow\\python\\framework\\ops.py\u001b[0m in \u001b[0;36m__init__\u001b[1;34m(self, node_def, g, inputs, output_types, control_inputs, input_types, original_op, op_def)\u001b[0m\n\u001b[0;32m   1790\u001b[0m           op_def, inputs, node_def.attr)\n\u001b[0;32m   1791\u001b[0m       self._c_op = _create_c_op(self._graph, node_def, grouped_inputs,\n\u001b[1;32m-> 1792\u001b[1;33m                                 control_input_ops)\n\u001b[0m\u001b[0;32m   1793\u001b[0m \u001b[1;33m\u001b[0m\u001b[0m\n\u001b[0;32m   1794\u001b[0m     \u001b[1;31m# Initialize self._outputs.\u001b[0m\u001b[1;33m\u001b[0m\u001b[1;33m\u001b[0m\u001b[0m\n",
      "\u001b[1;32mF:\\Anaconda\\lib\\site-packages\\tensorflow\\python\\framework\\ops.py\u001b[0m in \u001b[0;36m_create_c_op\u001b[1;34m(graph, node_def, inputs, control_inputs)\u001b[0m\n\u001b[0;32m   1629\u001b[0m   \u001b[1;32mexcept\u001b[0m \u001b[0merrors\u001b[0m\u001b[1;33m.\u001b[0m\u001b[0mInvalidArgumentError\u001b[0m \u001b[1;32mas\u001b[0m \u001b[0me\u001b[0m\u001b[1;33m:\u001b[0m\u001b[1;33m\u001b[0m\u001b[0m\n\u001b[0;32m   1630\u001b[0m     \u001b[1;31m# Convert to ValueError for backwards compatibility.\u001b[0m\u001b[1;33m\u001b[0m\u001b[1;33m\u001b[0m\u001b[0m\n\u001b[1;32m-> 1631\u001b[1;33m     \u001b[1;32mraise\u001b[0m \u001b[0mValueError\u001b[0m\u001b[1;33m(\u001b[0m\u001b[0mstr\u001b[0m\u001b[1;33m(\u001b[0m\u001b[0me\u001b[0m\u001b[1;33m)\u001b[0m\u001b[1;33m)\u001b[0m\u001b[1;33m\u001b[0m\u001b[0m\n\u001b[0m\u001b[0;32m   1632\u001b[0m \u001b[1;33m\u001b[0m\u001b[0m\n\u001b[0;32m   1633\u001b[0m   \u001b[1;32mreturn\u001b[0m \u001b[0mc_op\u001b[0m\u001b[1;33m\u001b[0m\u001b[0m\n",
      "\u001b[1;31mValueError\u001b[0m: Negative dimension size caused by subtracting 2 from 1 for 'max_pooling2d_6/MaxPool' (op: 'MaxPool') with input shapes: [?,1,112,128]."
     ]
    }
   ],
   "source": [
    "from keras.models import Sequential\n",
    "from keras.optimizers import SGD\n",
    "from keras.layers import Input, Dense, Convolution2D, MaxPooling2D, AveragePooling2D, ZeroPadding2D, Dropout, Flatten, merge, Reshape, Activation\n",
    "\n",
    "from sklearn.metrics import log_loss\n",
    "\n",
    "\n",
    "\n",
    "\n",
    "img_rows, img_cols = 224, 224 # Resolution of inputs\n",
    "channel = 3\n",
    "num_classes = 10 \n",
    "batch_size = 16 \n",
    "nb_epoch = 10\n",
    "\n",
    "model2 = Sequential()\n",
    "model2.add(ZeroPadding2D((1, 1), input_shape=(channel, img_rows, img_cols)))\n",
    "model2.add(Convolution2D(64, 3, 3, activation='relu'))\n",
    "model2.add(ZeroPadding2D((1, 1)))\n",
    "model2.add(Convolution2D(64, 3, 3, activation='relu'))\n",
    "model2.add(MaxPooling2D((2, 2), strides=(2, 2)))\n",
    "\n",
    "model2.add(ZeroPadding2D((1, 1)))\n",
    "model2.add(Convolution2D(128, 3, 3, activation='relu'))\n",
    "model2.add(ZeroPadding2D((1, 1)))\n",
    "model2.add(Convolution2D(128, 3, 3, activation='relu'))\n",
    "model2.summary()\n",
    "model2.add(MaxPooling2D((2, 2), strides=(2, 2)))\n",
    "\n",
    "model2.add(ZeroPadding2D((1, 1)))\n",
    "model2.add(Convolution2D(256, 3, 3, activation='relu'))\n",
    "model2.add(ZeroPadding2D((1, 1)))\n",
    "model2.add(Convolution2D(256, 3, 3, activation='relu'))\n",
    "model2.add(ZeroPadding2D((1, 1)))\n",
    "model2.add(Convolution2D(256, 3, 3, activation='relu'))\n",
    "model2.add(MaxPooling2D((2, 2), strides=(2, 2)))\n",
    "\n",
    "model2.add(ZeroPadding2D((1, 1)))\n",
    "model2.add(Convolution2D(512, 3, 3, activation='relu'))\n",
    "model2.add(ZeroPadding2D((1, 1)))\n",
    "model2.add(Convolution2D(512, 3, 3, activation='relu'))\n",
    "model2.add(ZeroPadding2D((1, 1)))\n",
    "model2.add(Convolution2D(512, 3, 3, activation='relu'))\n",
    "model2.add(MaxPooling2D((2, 2), strides=(2, 2)))\n",
    "\n",
    "model2.add(ZeroPadding2D((1, 1)))\n",
    "model2.add(Convolution2D(512, 3, 3, activation='relu'))\n",
    "model2.add(ZeroPadding2D((1, 1)))\n",
    "model2.add(Convolution2D(512, 3, 3, activation='relu'))\n",
    "model2.add(ZeroPadding2D((1, 1)))\n",
    "model2.add(Convolution2D(512, 3, 3, activation='relu'))\n",
    "model2.add(MaxPooling2D((2, 2), strides=(2, 2)))\n",
    "\n",
    "# Add Fully Connected Layer\n",
    "model2.add(Flatten())\n",
    "model2.add(Dense(4096, activation='relu'))\n",
    "model2.add(Dropout(0.5))\n",
    "model2.add(Dense(4096, activation='relu'))\n",
    "model2.add(Dropout(0.5))\n",
    "model2.add(Dense(1000, activation='softmax'))\n",
    "\n"
   ]
  },
  {
   "cell_type": "code",
   "execution_count": 25,
   "metadata": {},
   "outputs": [
    {
     "name": "stderr",
     "output_type": "stream",
     "text": [
      "F:\\Anaconda\\lib\\site-packages\\ipykernel_launcher.py:22: UserWarning: Update your `Conv2D` call to the Keras 2 API: `Conv2D(64, (3, 3), activation=\"relu\")`\n",
      "F:\\Anaconda\\lib\\site-packages\\ipykernel_launcher.py:24: UserWarning: Update your `Conv2D` call to the Keras 2 API: `Conv2D(64, (3, 3), activation=\"relu\")`\n",
      "F:\\Anaconda\\lib\\site-packages\\ipykernel_launcher.py:28: UserWarning: Update your `Conv2D` call to the Keras 2 API: `Conv2D(128, (3, 3), activation=\"relu\")`\n",
      "F:\\Anaconda\\lib\\site-packages\\ipykernel_launcher.py:30: UserWarning: Update your `Conv2D` call to the Keras 2 API: `Conv2D(128, (3, 3), activation=\"relu\")`\n"
     ]
    },
    {
     "ename": "ValueError",
     "evalue": "Negative dimension size caused by subtracting 2 from 1 for 'max_pooling2d_2/MaxPool' (op: 'MaxPool') with input shapes: [?,1,112,128].",
     "output_type": "error",
     "traceback": [
      "\u001b[1;31m---------------------------------------------------------------------------\u001b[0m",
      "\u001b[1;31mInvalidArgumentError\u001b[0m                      Traceback (most recent call last)",
      "\u001b[1;32mF:\\Anaconda\\lib\\site-packages\\tensorflow\\python\\framework\\ops.py\u001b[0m in \u001b[0;36m_create_c_op\u001b[1;34m(graph, node_def, inputs, control_inputs)\u001b[0m\n\u001b[0;32m   1627\u001b[0m   \u001b[1;32mtry\u001b[0m\u001b[1;33m:\u001b[0m\u001b[1;33m\u001b[0m\u001b[0m\n\u001b[1;32m-> 1628\u001b[1;33m     \u001b[0mc_op\u001b[0m \u001b[1;33m=\u001b[0m \u001b[0mc_api\u001b[0m\u001b[1;33m.\u001b[0m\u001b[0mTF_FinishOperation\u001b[0m\u001b[1;33m(\u001b[0m\u001b[0mop_desc\u001b[0m\u001b[1;33m)\u001b[0m\u001b[1;33m\u001b[0m\u001b[0m\n\u001b[0m\u001b[0;32m   1629\u001b[0m   \u001b[1;32mexcept\u001b[0m \u001b[0merrors\u001b[0m\u001b[1;33m.\u001b[0m\u001b[0mInvalidArgumentError\u001b[0m \u001b[1;32mas\u001b[0m \u001b[0me\u001b[0m\u001b[1;33m:\u001b[0m\u001b[1;33m\u001b[0m\u001b[0m\n",
      "\u001b[1;31mInvalidArgumentError\u001b[0m: Negative dimension size caused by subtracting 2 from 1 for 'max_pooling2d_2/MaxPool' (op: 'MaxPool') with input shapes: [?,1,112,128].",
      "\nDuring handling of the above exception, another exception occurred:\n",
      "\u001b[1;31mValueError\u001b[0m                                Traceback (most recent call last)",
      "\u001b[1;32m<ipython-input-25-3e2204c8bc3d>\u001b[0m in \u001b[0;36m<module>\u001b[1;34m()\u001b[0m\n\u001b[0;32m     97\u001b[0m \u001b[1;33m\u001b[0m\u001b[0m\n\u001b[0;32m     98\u001b[0m     \u001b[1;31m# Load our model\u001b[0m\u001b[1;33m\u001b[0m\u001b[1;33m\u001b[0m\u001b[0m\n\u001b[1;32m---> 99\u001b[1;33m     \u001b[0mmodel\u001b[0m \u001b[1;33m=\u001b[0m \u001b[0mvgg16_model\u001b[0m\u001b[1;33m(\u001b[0m\u001b[0mimg_rows\u001b[0m\u001b[1;33m,\u001b[0m \u001b[0mimg_cols\u001b[0m\u001b[1;33m,\u001b[0m \u001b[0mchannel\u001b[0m\u001b[1;33m,\u001b[0m \u001b[0mnum_classes\u001b[0m\u001b[1;33m)\u001b[0m\u001b[1;33m\u001b[0m\u001b[0m\n\u001b[0m\u001b[0;32m    100\u001b[0m     \u001b[0mmodel\u001b[0m\u001b[1;33m.\u001b[0m\u001b[0msummary\u001b[0m\u001b[1;33m(\u001b[0m\u001b[1;33m)\u001b[0m\u001b[1;33m\u001b[0m\u001b[0m\n\u001b[0;32m    101\u001b[0m     \u001b[1;31m# Start Fine-tuning\u001b[0m\u001b[1;33m\u001b[0m\u001b[1;33m\u001b[0m\u001b[0m\n",
      "\u001b[1;32m<ipython-input-25-3e2204c8bc3d>\u001b[0m in \u001b[0;36mvgg16_model\u001b[1;34m(img_rows, img_cols, channel, num_classes)\u001b[0m\n\u001b[0;32m     29\u001b[0m     \u001b[0mmodel\u001b[0m\u001b[1;33m.\u001b[0m\u001b[0madd\u001b[0m\u001b[1;33m(\u001b[0m\u001b[0mZeroPadding2D\u001b[0m\u001b[1;33m(\u001b[0m\u001b[1;33m(\u001b[0m\u001b[1;36m1\u001b[0m\u001b[1;33m,\u001b[0m \u001b[1;36m1\u001b[0m\u001b[1;33m)\u001b[0m\u001b[1;33m)\u001b[0m\u001b[1;33m)\u001b[0m\u001b[1;33m\u001b[0m\u001b[0m\n\u001b[0;32m     30\u001b[0m     \u001b[0mmodel\u001b[0m\u001b[1;33m.\u001b[0m\u001b[0madd\u001b[0m\u001b[1;33m(\u001b[0m\u001b[0mConvolution2D\u001b[0m\u001b[1;33m(\u001b[0m\u001b[1;36m128\u001b[0m\u001b[1;33m,\u001b[0m \u001b[1;36m3\u001b[0m\u001b[1;33m,\u001b[0m \u001b[1;36m3\u001b[0m\u001b[1;33m,\u001b[0m \u001b[0mactivation\u001b[0m\u001b[1;33m=\u001b[0m\u001b[1;34m'relu'\u001b[0m\u001b[1;33m)\u001b[0m\u001b[1;33m)\u001b[0m\u001b[1;33m\u001b[0m\u001b[0m\n\u001b[1;32m---> 31\u001b[1;33m     \u001b[0mmodel\u001b[0m\u001b[1;33m.\u001b[0m\u001b[0madd\u001b[0m\u001b[1;33m(\u001b[0m\u001b[0mMaxPooling2D\u001b[0m\u001b[1;33m(\u001b[0m\u001b[1;33m(\u001b[0m\u001b[1;36m2\u001b[0m\u001b[1;33m,\u001b[0m \u001b[1;36m2\u001b[0m\u001b[1;33m)\u001b[0m\u001b[1;33m,\u001b[0m \u001b[0mstrides\u001b[0m\u001b[1;33m=\u001b[0m\u001b[1;33m(\u001b[0m\u001b[1;36m2\u001b[0m\u001b[1;33m,\u001b[0m \u001b[1;36m2\u001b[0m\u001b[1;33m)\u001b[0m\u001b[1;33m)\u001b[0m\u001b[1;33m)\u001b[0m\u001b[1;33m\u001b[0m\u001b[0m\n\u001b[0m\u001b[0;32m     32\u001b[0m \u001b[1;33m\u001b[0m\u001b[0m\n\u001b[0;32m     33\u001b[0m     \u001b[0mmodel\u001b[0m\u001b[1;33m.\u001b[0m\u001b[0madd\u001b[0m\u001b[1;33m(\u001b[0m\u001b[0mZeroPadding2D\u001b[0m\u001b[1;33m(\u001b[0m\u001b[1;33m(\u001b[0m\u001b[1;36m1\u001b[0m\u001b[1;33m,\u001b[0m \u001b[1;36m1\u001b[0m\u001b[1;33m)\u001b[0m\u001b[1;33m)\u001b[0m\u001b[1;33m)\u001b[0m\u001b[1;33m\u001b[0m\u001b[0m\n",
      "\u001b[1;32mF:\\Anaconda\\lib\\site-packages\\keras\\engine\\sequential.py\u001b[0m in \u001b[0;36madd\u001b[1;34m(self, layer)\u001b[0m\n\u001b[0;32m    179\u001b[0m                 \u001b[0mself\u001b[0m\u001b[1;33m.\u001b[0m\u001b[0minputs\u001b[0m \u001b[1;33m=\u001b[0m \u001b[0mnetwork\u001b[0m\u001b[1;33m.\u001b[0m\u001b[0mget_source_inputs\u001b[0m\u001b[1;33m(\u001b[0m\u001b[0mself\u001b[0m\u001b[1;33m.\u001b[0m\u001b[0moutputs\u001b[0m\u001b[1;33m[\u001b[0m\u001b[1;36m0\u001b[0m\u001b[1;33m]\u001b[0m\u001b[1;33m)\u001b[0m\u001b[1;33m\u001b[0m\u001b[0m\n\u001b[0;32m    180\u001b[0m         \u001b[1;32melif\u001b[0m \u001b[0mself\u001b[0m\u001b[1;33m.\u001b[0m\u001b[0moutputs\u001b[0m\u001b[1;33m:\u001b[0m\u001b[1;33m\u001b[0m\u001b[0m\n\u001b[1;32m--> 181\u001b[1;33m             \u001b[0moutput_tensor\u001b[0m \u001b[1;33m=\u001b[0m \u001b[0mlayer\u001b[0m\u001b[1;33m(\u001b[0m\u001b[0mself\u001b[0m\u001b[1;33m.\u001b[0m\u001b[0moutputs\u001b[0m\u001b[1;33m[\u001b[0m\u001b[1;36m0\u001b[0m\u001b[1;33m]\u001b[0m\u001b[1;33m)\u001b[0m\u001b[1;33m\u001b[0m\u001b[0m\n\u001b[0m\u001b[0;32m    182\u001b[0m             \u001b[1;32mif\u001b[0m \u001b[0misinstance\u001b[0m\u001b[1;33m(\u001b[0m\u001b[0moutput_tensor\u001b[0m\u001b[1;33m,\u001b[0m \u001b[0mlist\u001b[0m\u001b[1;33m)\u001b[0m\u001b[1;33m:\u001b[0m\u001b[1;33m\u001b[0m\u001b[0m\n\u001b[0;32m    183\u001b[0m                 raise TypeError('All layers in a Sequential model '\n",
      "\u001b[1;32mF:\\Anaconda\\lib\\site-packages\\keras\\engine\\base_layer.py\u001b[0m in \u001b[0;36m__call__\u001b[1;34m(self, inputs, **kwargs)\u001b[0m\n\u001b[0;32m    455\u001b[0m             \u001b[1;31m# Actually call the layer,\u001b[0m\u001b[1;33m\u001b[0m\u001b[1;33m\u001b[0m\u001b[0m\n\u001b[0;32m    456\u001b[0m             \u001b[1;31m# collecting output(s), mask(s), and shape(s).\u001b[0m\u001b[1;33m\u001b[0m\u001b[1;33m\u001b[0m\u001b[0m\n\u001b[1;32m--> 457\u001b[1;33m             \u001b[0moutput\u001b[0m \u001b[1;33m=\u001b[0m \u001b[0mself\u001b[0m\u001b[1;33m.\u001b[0m\u001b[0mcall\u001b[0m\u001b[1;33m(\u001b[0m\u001b[0minputs\u001b[0m\u001b[1;33m,\u001b[0m \u001b[1;33m**\u001b[0m\u001b[0mkwargs\u001b[0m\u001b[1;33m)\u001b[0m\u001b[1;33m\u001b[0m\u001b[0m\n\u001b[0m\u001b[0;32m    458\u001b[0m             \u001b[0moutput_mask\u001b[0m \u001b[1;33m=\u001b[0m \u001b[0mself\u001b[0m\u001b[1;33m.\u001b[0m\u001b[0mcompute_mask\u001b[0m\u001b[1;33m(\u001b[0m\u001b[0minputs\u001b[0m\u001b[1;33m,\u001b[0m \u001b[0mprevious_mask\u001b[0m\u001b[1;33m)\u001b[0m\u001b[1;33m\u001b[0m\u001b[0m\n\u001b[0;32m    459\u001b[0m \u001b[1;33m\u001b[0m\u001b[0m\n",
      "\u001b[1;32mF:\\Anaconda\\lib\\site-packages\\keras\\layers\\pooling.py\u001b[0m in \u001b[0;36mcall\u001b[1;34m(self, inputs)\u001b[0m\n\u001b[0;32m    203\u001b[0m                                         \u001b[0mstrides\u001b[0m\u001b[1;33m=\u001b[0m\u001b[0mself\u001b[0m\u001b[1;33m.\u001b[0m\u001b[0mstrides\u001b[0m\u001b[1;33m,\u001b[0m\u001b[1;33m\u001b[0m\u001b[0m\n\u001b[0;32m    204\u001b[0m                                         \u001b[0mpadding\u001b[0m\u001b[1;33m=\u001b[0m\u001b[0mself\u001b[0m\u001b[1;33m.\u001b[0m\u001b[0mpadding\u001b[0m\u001b[1;33m,\u001b[0m\u001b[1;33m\u001b[0m\u001b[0m\n\u001b[1;32m--> 205\u001b[1;33m                                         data_format=self.data_format)\n\u001b[0m\u001b[0;32m    206\u001b[0m         \u001b[1;32mreturn\u001b[0m \u001b[0moutput\u001b[0m\u001b[1;33m\u001b[0m\u001b[0m\n\u001b[0;32m    207\u001b[0m \u001b[1;33m\u001b[0m\u001b[0m\n",
      "\u001b[1;32mF:\\Anaconda\\lib\\site-packages\\keras\\layers\\pooling.py\u001b[0m in \u001b[0;36m_pooling_function\u001b[1;34m(self, inputs, pool_size, strides, padding, data_format)\u001b[0m\n\u001b[0;32m    266\u001b[0m         output = K.pool2d(inputs, pool_size, strides,\n\u001b[0;32m    267\u001b[0m                           \u001b[0mpadding\u001b[0m\u001b[1;33m,\u001b[0m \u001b[0mdata_format\u001b[0m\u001b[1;33m,\u001b[0m\u001b[1;33m\u001b[0m\u001b[0m\n\u001b[1;32m--> 268\u001b[1;33m                           pool_mode='max')\n\u001b[0m\u001b[0;32m    269\u001b[0m         \u001b[1;32mreturn\u001b[0m \u001b[0moutput\u001b[0m\u001b[1;33m\u001b[0m\u001b[0m\n\u001b[0;32m    270\u001b[0m \u001b[1;33m\u001b[0m\u001b[0m\n",
      "\u001b[1;32mF:\\Anaconda\\lib\\site-packages\\keras\\backend\\tensorflow_backend.py\u001b[0m in \u001b[0;36mpool2d\u001b[1;34m(x, pool_size, strides, padding, data_format, pool_mode)\u001b[0m\n\u001b[0;32m   3976\u001b[0m         x = tf.nn.max_pool(x, pool_size, strides,\n\u001b[0;32m   3977\u001b[0m                            \u001b[0mpadding\u001b[0m\u001b[1;33m=\u001b[0m\u001b[0mpadding\u001b[0m\u001b[1;33m,\u001b[0m\u001b[1;33m\u001b[0m\u001b[0m\n\u001b[1;32m-> 3978\u001b[1;33m                            data_format=tf_data_format)\n\u001b[0m\u001b[0;32m   3979\u001b[0m     \u001b[1;32melif\u001b[0m \u001b[0mpool_mode\u001b[0m \u001b[1;33m==\u001b[0m \u001b[1;34m'avg'\u001b[0m\u001b[1;33m:\u001b[0m\u001b[1;33m\u001b[0m\u001b[0m\n\u001b[0;32m   3980\u001b[0m         x = tf.nn.avg_pool(x, pool_size, strides,\n",
      "\u001b[1;32mF:\\Anaconda\\lib\\site-packages\\tensorflow\\python\\ops\\nn_ops.py\u001b[0m in \u001b[0;36mmax_pool\u001b[1;34m(value, ksize, strides, padding, data_format, name)\u001b[0m\n\u001b[0;32m   2138\u001b[0m         \u001b[0mpadding\u001b[0m\u001b[1;33m=\u001b[0m\u001b[0mpadding\u001b[0m\u001b[1;33m,\u001b[0m\u001b[1;33m\u001b[0m\u001b[0m\n\u001b[0;32m   2139\u001b[0m         \u001b[0mdata_format\u001b[0m\u001b[1;33m=\u001b[0m\u001b[0mdata_format\u001b[0m\u001b[1;33m,\u001b[0m\u001b[1;33m\u001b[0m\u001b[0m\n\u001b[1;32m-> 2140\u001b[1;33m         name=name)\n\u001b[0m\u001b[0;32m   2141\u001b[0m \u001b[1;33m\u001b[0m\u001b[0m\n\u001b[0;32m   2142\u001b[0m \u001b[1;33m\u001b[0m\u001b[0m\n",
      "\u001b[1;32mF:\\Anaconda\\lib\\site-packages\\tensorflow\\python\\ops\\gen_nn_ops.py\u001b[0m in \u001b[0;36mmax_pool\u001b[1;34m(input, ksize, strides, padding, data_format, name)\u001b[0m\n\u001b[0;32m   5081\u001b[0m     _, _, _op = _op_def_lib._apply_op_helper(\n\u001b[0;32m   5082\u001b[0m         \u001b[1;34m\"MaxPool\"\u001b[0m\u001b[1;33m,\u001b[0m \u001b[0minput\u001b[0m\u001b[1;33m=\u001b[0m\u001b[0minput\u001b[0m\u001b[1;33m,\u001b[0m \u001b[0mksize\u001b[0m\u001b[1;33m=\u001b[0m\u001b[0mksize\u001b[0m\u001b[1;33m,\u001b[0m \u001b[0mstrides\u001b[0m\u001b[1;33m=\u001b[0m\u001b[0mstrides\u001b[0m\u001b[1;33m,\u001b[0m \u001b[0mpadding\u001b[0m\u001b[1;33m=\u001b[0m\u001b[0mpadding\u001b[0m\u001b[1;33m,\u001b[0m\u001b[1;33m\u001b[0m\u001b[0m\n\u001b[1;32m-> 5083\u001b[1;33m         data_format=data_format, name=name)\n\u001b[0m\u001b[0;32m   5084\u001b[0m     \u001b[0m_result\u001b[0m \u001b[1;33m=\u001b[0m \u001b[0m_op\u001b[0m\u001b[1;33m.\u001b[0m\u001b[0moutputs\u001b[0m\u001b[1;33m[\u001b[0m\u001b[1;33m:\u001b[0m\u001b[1;33m]\u001b[0m\u001b[1;33m\u001b[0m\u001b[0m\n\u001b[0;32m   5085\u001b[0m     \u001b[0m_inputs_flat\u001b[0m \u001b[1;33m=\u001b[0m \u001b[0m_op\u001b[0m\u001b[1;33m.\u001b[0m\u001b[0minputs\u001b[0m\u001b[1;33m\u001b[0m\u001b[0m\n",
      "\u001b[1;32mF:\\Anaconda\\lib\\site-packages\\tensorflow\\python\\framework\\op_def_library.py\u001b[0m in \u001b[0;36m_apply_op_helper\u001b[1;34m(self, op_type_name, name, **keywords)\u001b[0m\n\u001b[0;32m    785\u001b[0m         op = g.create_op(op_type_name, inputs, output_types, name=scope,\n\u001b[0;32m    786\u001b[0m                          \u001b[0minput_types\u001b[0m\u001b[1;33m=\u001b[0m\u001b[0minput_types\u001b[0m\u001b[1;33m,\u001b[0m \u001b[0mattrs\u001b[0m\u001b[1;33m=\u001b[0m\u001b[0mattr_protos\u001b[0m\u001b[1;33m,\u001b[0m\u001b[1;33m\u001b[0m\u001b[0m\n\u001b[1;32m--> 787\u001b[1;33m                          op_def=op_def)\n\u001b[0m\u001b[0;32m    788\u001b[0m       \u001b[1;32mreturn\u001b[0m \u001b[0moutput_structure\u001b[0m\u001b[1;33m,\u001b[0m \u001b[0mop_def\u001b[0m\u001b[1;33m.\u001b[0m\u001b[0mis_stateful\u001b[0m\u001b[1;33m,\u001b[0m \u001b[0mop\u001b[0m\u001b[1;33m\u001b[0m\u001b[0m\n\u001b[0;32m    789\u001b[0m \u001b[1;33m\u001b[0m\u001b[0m\n",
      "\u001b[1;32mF:\\Anaconda\\lib\\site-packages\\tensorflow\\python\\util\\deprecation.py\u001b[0m in \u001b[0;36mnew_func\u001b[1;34m(*args, **kwargs)\u001b[0m\n\u001b[0;32m    486\u001b[0m                 \u001b[1;34m'in a future version'\u001b[0m \u001b[1;32mif\u001b[0m \u001b[0mdate\u001b[0m \u001b[1;32mis\u001b[0m \u001b[1;32mNone\u001b[0m \u001b[1;32melse\u001b[0m \u001b[1;33m(\u001b[0m\u001b[1;34m'after %s'\u001b[0m \u001b[1;33m%\u001b[0m \u001b[0mdate\u001b[0m\u001b[1;33m)\u001b[0m\u001b[1;33m,\u001b[0m\u001b[1;33m\u001b[0m\u001b[0m\n\u001b[0;32m    487\u001b[0m                 instructions)\n\u001b[1;32m--> 488\u001b[1;33m       \u001b[1;32mreturn\u001b[0m \u001b[0mfunc\u001b[0m\u001b[1;33m(\u001b[0m\u001b[1;33m*\u001b[0m\u001b[0margs\u001b[0m\u001b[1;33m,\u001b[0m \u001b[1;33m**\u001b[0m\u001b[0mkwargs\u001b[0m\u001b[1;33m)\u001b[0m\u001b[1;33m\u001b[0m\u001b[0m\n\u001b[0m\u001b[0;32m    489\u001b[0m     return tf_decorator.make_decorator(func, new_func, 'deprecated',\n\u001b[0;32m    490\u001b[0m                                        _add_deprecated_arg_notice_to_docstring(\n",
      "\u001b[1;32mF:\\Anaconda\\lib\\site-packages\\tensorflow\\python\\framework\\ops.py\u001b[0m in \u001b[0;36mcreate_op\u001b[1;34m(***failed resolving arguments***)\u001b[0m\n\u001b[0;32m   3272\u001b[0m           \u001b[0minput_types\u001b[0m\u001b[1;33m=\u001b[0m\u001b[0minput_types\u001b[0m\u001b[1;33m,\u001b[0m\u001b[1;33m\u001b[0m\u001b[0m\n\u001b[0;32m   3273\u001b[0m           \u001b[0moriginal_op\u001b[0m\u001b[1;33m=\u001b[0m\u001b[0mself\u001b[0m\u001b[1;33m.\u001b[0m\u001b[0m_default_original_op\u001b[0m\u001b[1;33m,\u001b[0m\u001b[1;33m\u001b[0m\u001b[0m\n\u001b[1;32m-> 3274\u001b[1;33m           op_def=op_def)\n\u001b[0m\u001b[0;32m   3275\u001b[0m       \u001b[0mself\u001b[0m\u001b[1;33m.\u001b[0m\u001b[0m_create_op_helper\u001b[0m\u001b[1;33m(\u001b[0m\u001b[0mret\u001b[0m\u001b[1;33m,\u001b[0m \u001b[0mcompute_device\u001b[0m\u001b[1;33m=\u001b[0m\u001b[0mcompute_device\u001b[0m\u001b[1;33m)\u001b[0m\u001b[1;33m\u001b[0m\u001b[0m\n\u001b[0;32m   3276\u001b[0m     \u001b[1;32mreturn\u001b[0m \u001b[0mret\u001b[0m\u001b[1;33m\u001b[0m\u001b[0m\n",
      "\u001b[1;32mF:\\Anaconda\\lib\\site-packages\\tensorflow\\python\\framework\\ops.py\u001b[0m in \u001b[0;36m__init__\u001b[1;34m(self, node_def, g, inputs, output_types, control_inputs, input_types, original_op, op_def)\u001b[0m\n\u001b[0;32m   1790\u001b[0m           op_def, inputs, node_def.attr)\n\u001b[0;32m   1791\u001b[0m       self._c_op = _create_c_op(self._graph, node_def, grouped_inputs,\n\u001b[1;32m-> 1792\u001b[1;33m                                 control_input_ops)\n\u001b[0m\u001b[0;32m   1793\u001b[0m \u001b[1;33m\u001b[0m\u001b[0m\n\u001b[0;32m   1794\u001b[0m     \u001b[1;31m# Initialize self._outputs.\u001b[0m\u001b[1;33m\u001b[0m\u001b[1;33m\u001b[0m\u001b[0m\n",
      "\u001b[1;32mF:\\Anaconda\\lib\\site-packages\\tensorflow\\python\\framework\\ops.py\u001b[0m in \u001b[0;36m_create_c_op\u001b[1;34m(graph, node_def, inputs, control_inputs)\u001b[0m\n\u001b[0;32m   1629\u001b[0m   \u001b[1;32mexcept\u001b[0m \u001b[0merrors\u001b[0m\u001b[1;33m.\u001b[0m\u001b[0mInvalidArgumentError\u001b[0m \u001b[1;32mas\u001b[0m \u001b[0me\u001b[0m\u001b[1;33m:\u001b[0m\u001b[1;33m\u001b[0m\u001b[0m\n\u001b[0;32m   1630\u001b[0m     \u001b[1;31m# Convert to ValueError for backwards compatibility.\u001b[0m\u001b[1;33m\u001b[0m\u001b[1;33m\u001b[0m\u001b[0m\n\u001b[1;32m-> 1631\u001b[1;33m     \u001b[1;32mraise\u001b[0m \u001b[0mValueError\u001b[0m\u001b[1;33m(\u001b[0m\u001b[0mstr\u001b[0m\u001b[1;33m(\u001b[0m\u001b[0me\u001b[0m\u001b[1;33m)\u001b[0m\u001b[1;33m)\u001b[0m\u001b[1;33m\u001b[0m\u001b[0m\n\u001b[0m\u001b[0;32m   1632\u001b[0m \u001b[1;33m\u001b[0m\u001b[0m\n\u001b[0;32m   1633\u001b[0m   \u001b[1;32mreturn\u001b[0m \u001b[0mc_op\u001b[0m\u001b[1;33m\u001b[0m\u001b[0m\n",
      "\u001b[1;31mValueError\u001b[0m: Negative dimension size caused by subtracting 2 from 1 for 'max_pooling2d_2/MaxPool' (op: 'MaxPool') with input shapes: [?,1,112,128]."
     ]
    }
   ],
   "source": [
    "from keras.models import Sequential\n",
    "from keras.optimizers import SGD\n",
    "from keras.layers import Input, Dense, Convolution2D, MaxPooling2D, AveragePooling2D, ZeroPadding2D, Dropout, Flatten, merge, Reshape, Activation\n",
    "\n",
    "from sklearn.metrics import log_loss\n",
    "\n",
    "#from load_cifar10 import load_cifar10_data\n",
    "\n",
    "def vgg16_model(img_rows, img_cols, channel=1, num_classes=None):\n",
    "    \"\"\"VGG 16 model for Keras\n",
    "    model Schema is based on \n",
    "    https://gist.github.com/baraldilorenzo/07d7802847aaad0a35d3\n",
    "    ImageNet Pretrained Weights \n",
    "    https://drive.google.com/file/d/0Bz7KyqmuGsilT0J5dmRCM0ROVHc/view?usp=sharing\n",
    "    Parameters:\n",
    "      img_rows, img_cols - resolution of inputs\n",
    "      channel - 1 for grayscale, 3 for color \n",
    "      num_classes - number of categories for our classification task\n",
    "    \"\"\"\n",
    "    model = Sequential()\n",
    "    model.add(ZeroPadding2D((1, 1), input_shape=(channel, img_rows, img_cols)))\n",
    "    model.add(Convolution2D(64, 3, 3, activation='relu'))\n",
    "    model.add(ZeroPadding2D((1, 1)))\n",
    "    model.add(Convolution2D(64, 3, 3, activation='relu'))\n",
    "    model.add(MaxPooling2D((2, 2), strides=(2, 2)))\n",
    "\n",
    "    model.add(ZeroPadding2D((1, 1)))\n",
    "    model.add(Convolution2D(128, 3, 3, activation='relu'))\n",
    "    model.add(ZeroPadding2D((1, 1)))\n",
    "    model.add(Convolution2D(128, 3, 3, activation='relu'))\n",
    "    model.add(MaxPooling2D((2, 2), strides=(2, 2)))\n",
    "\n",
    "    model.add(ZeroPadding2D((1, 1)))\n",
    "    model.add(Convolution2D(256, 3, 3, activation='relu'))\n",
    "    model.add(ZeroPadding2D((1, 1)))\n",
    "    model.add(Convolution2D(256, 3, 3, activation='relu'))\n",
    "    model.add(ZeroPadding2D((1, 1)))\n",
    "    model.add(Convolution2D(256, 3, 3, activation='relu'))\n",
    "    model.add(MaxPooling2D((2, 2), strides=(2, 2)))\n",
    "\n",
    "    model.add(ZeroPadding2D((1, 1)))\n",
    "    model.add(Convolution2D(512, 3, 3, activation='relu'))\n",
    "    model.add(ZeroPadding2D((1, 1)))\n",
    "    model.add(Convolution2D(512, 3, 3, activation='relu'))\n",
    "    model.add(ZeroPadding2D((1, 1)))\n",
    "    model.add(Convolution2D(512, 3, 3, activation='relu'))\n",
    "    model.add(MaxPooling2D((2, 2), strides=(2, 2)))\n",
    "\n",
    "    model.add(ZeroPadding2D((1, 1)))\n",
    "    model.add(Convolution2D(512, 3, 3, activation='relu'))\n",
    "    model.add(ZeroPadding2D((1, 1)))\n",
    "    model.add(Convolution2D(512, 3, 3, activation='relu'))\n",
    "    model.add(ZeroPadding2D((1, 1)))\n",
    "    model.add(Convolution2D(512, 3, 3, activation='relu'))\n",
    "    model.add(MaxPooling2D((2, 2), strides=(2, 2)))\n",
    "\n",
    "    # Add Fully Connected Layer\n",
    "    model.add(Flatten())\n",
    "    model.add(Dense(4096, activation='relu'))\n",
    "    model.add(Dropout(0.5))\n",
    "    model.add(Dense(4096, activation='relu'))\n",
    "    model.add(Dropout(0.5))\n",
    "    model.add(Dense(1000, activation='softmax'))\n",
    "\n",
    "    # Loads ImageNet pre-trained data\n",
    "    model.load_weights('imagenet_models/vgg16_weights.h5')\n",
    "\n",
    "    # Truncate and replace softmax layer for transfer learning\n",
    "    model.layers.pop()\n",
    "    model.outputs = [model.layers[-1].output]\n",
    "    model.layers[-1].outbound_nodes = []\n",
    "    model.add(Dense(num_classes, activation='softmax'))\n",
    "\n",
    "    # Uncomment below to set the first 10 layers to non-trainable (weights will not be updated)\n",
    "    #for layer in model.layers[:10]:\n",
    "    #    layer.trainable = False\n",
    "\n",
    "    # Learning rate is changed to 0.001\n",
    "    sgd = SGD(lr=1e-3, decay=1e-6, momentum=0.9, nesterov=True)\n",
    "    model.compile(optimizer=sgd, loss='categorical_crossentropy', metrics=['accuracy'])\n",
    "\n",
    "    return model\n",
    "\n",
    "\n",
    "if __name__ == '__main__':\n",
    "\n",
    "    # Example to fine-tune on 3000 samples from Cifar10\n",
    "\n",
    "    img_rows, img_cols = 224, 224 # Resolution of inputs\n",
    "    channel = 3\n",
    "    num_classes = 10 \n",
    "    batch_size = 16 \n",
    "    nb_epoch = 10\n",
    "\n",
    "    # Load Cifar10 data. Please implement your own load_data() module for your own dataset\n",
    "    #X_train, Y_train, X_valid, Y_valid = load_cifar10_data(img_rows, img_cols)\n",
    "    \n",
    "    # Load our model\n",
    "    model = vgg16_model(img_rows, img_cols, channel, num_classes)\n",
    "    model.summary()\n",
    "    # Start Fine-tuning\n",
    "    model.fit(X_train, Y_train,\n",
    "              batch_size=batch_size,\n",
    "              nb_epoch=nb_epoch,\n",
    "              shuffle=True,\n",
    "              verbose=1,\n",
    "              validation_data=(X_valid, Y_valid),\n",
    "              )\n",
    "\n",
    "    # Make predictions\n",
    "    predictions_valid = model.predict(X_valid, batch_size=batch_size, verbose=1)\n",
    "\n",
    "    # Cross-entropy loss score\n",
    "    score = log_loss(Y_valid, predictions_valid)\n",
    "\n"
   ]
  },
  {
   "cell_type": "code",
   "execution_count": 8,
   "metadata": {},
   "outputs": [
    {
     "name": "stdout",
     "output_type": "stream",
     "text": [
      "250042760000.0\n",
      "\n",
      "\n",
      "\n",
      "\n",
      "Shape: (10000, 10000) Device: /cpu:0\n",
      "Time taken: 0:00:01.535795\n",
      "\n",
      "\n",
      "\n",
      "\n"
     ]
    }
   ],
   "source": [
    "import sys\n",
    "import numpy as np\n",
    "import tensorflow as tf\n",
    "from datetime import datetime\n",
    "\n",
    "### argv[1] = type of device and which one\n",
    "### argv[2] = size of the matrix to operate on\n",
    "\n",
    "device_name = sys.argv[1]\n",
    "shape = (10000, 10000)\n",
    "if device_name == \"gpu\":\n",
    "    device_name = \"/gpu:0\"\n",
    "else:\n",
    "    device_name = \"/cpu:0\"\n",
    "\n",
    "with tf.device(\"gpu\"):\n",
    "    random_matrix = tf.random_uniform(shape=shape, minval=0, maxval=1)\n",
    "    dot_operation = tf.matmul(random_matrix, tf.transpose(random_matrix))\n",
    "    sum_operation = tf.reduce_sum(dot_operation)\n",
    "\n",
    "startTime = datetime.now()\n",
    "with tf.Session(config=tf.ConfigProto(log_device_placement=True)) as session:\n",
    "        result = session.run(sum_operation)\n",
    "        print(result)\n",
    "\n",
    "### Print the shape, device name and timing\n",
    "print(\"\\n\" * 3)\n",
    "print(\"Shape:\", shape, \"Device:\", device_name)\n",
    "print(\"Time taken:\", datetime.now() - startTime)\n",
    "print(\"\\n\" * 3)"
   ]
  },
  {
   "cell_type": "code",
   "execution_count": 5,
   "metadata": {},
   "outputs": [
    {
     "name": "stdout",
     "output_type": "stream",
     "text": [
      "Found 7160 images belonging to 4 classes.\n",
      "Found 1115 images belonging to 4 classes.\n",
      "Epoch 1/50\n"
     ]
    },
    {
     "ename": "ValueError",
     "evalue": "Error when checking target: expected dense_4 to have shape (4,) but got array with shape (1,)",
     "output_type": "error",
     "traceback": [
      "\u001b[1;31m---------------------------------------------------------------------------\u001b[0m",
      "\u001b[1;31mValueError\u001b[0m                                Traceback (most recent call last)",
      "\u001b[1;32m<ipython-input-5-8567b4b53ec4>\u001b[0m in \u001b[0;36m<module>\u001b[1;34m()\u001b[0m\n\u001b[0;32m     64\u001b[0m         \u001b[0mepochs\u001b[0m\u001b[1;33m=\u001b[0m\u001b[1;36m50\u001b[0m\u001b[1;33m,\u001b[0m\u001b[1;33m\u001b[0m\u001b[0m\n\u001b[0;32m     65\u001b[0m         \u001b[0mvalidation_data\u001b[0m\u001b[1;33m=\u001b[0m\u001b[0mvalidation_generator\u001b[0m\u001b[1;33m,\u001b[0m\u001b[1;33m\u001b[0m\u001b[0m\n\u001b[1;32m---> 66\u001b[1;33m         validation_steps=800 // batch_size)\n\u001b[0m\u001b[0;32m     67\u001b[0m \u001b[1;33m\u001b[0m\u001b[0m\n\u001b[0;32m     68\u001b[0m \u001b[0mmodel\u001b[0m\u001b[1;33m.\u001b[0m\u001b[0msave_weights\u001b[0m\u001b[1;33m(\u001b[0m\u001b[1;34m'first_try.h5'\u001b[0m\u001b[1;33m)\u001b[0m\u001b[1;33m\u001b[0m\u001b[0m\n",
      "\u001b[1;32mO:\\Anaconda\\lib\\site-packages\\keras\\legacy\\interfaces.py\u001b[0m in \u001b[0;36mwrapper\u001b[1;34m(*args, **kwargs)\u001b[0m\n\u001b[0;32m     89\u001b[0m                 warnings.warn('Update your `' + object_name +\n\u001b[0;32m     90\u001b[0m                               '` call to the Keras 2 API: ' + signature, stacklevel=2)\n\u001b[1;32m---> 91\u001b[1;33m             \u001b[1;32mreturn\u001b[0m \u001b[0mfunc\u001b[0m\u001b[1;33m(\u001b[0m\u001b[1;33m*\u001b[0m\u001b[0margs\u001b[0m\u001b[1;33m,\u001b[0m \u001b[1;33m**\u001b[0m\u001b[0mkwargs\u001b[0m\u001b[1;33m)\u001b[0m\u001b[1;33m\u001b[0m\u001b[0m\n\u001b[0m\u001b[0;32m     92\u001b[0m         \u001b[0mwrapper\u001b[0m\u001b[1;33m.\u001b[0m\u001b[0m_original_function\u001b[0m \u001b[1;33m=\u001b[0m \u001b[0mfunc\u001b[0m\u001b[1;33m\u001b[0m\u001b[0m\n\u001b[0;32m     93\u001b[0m         \u001b[1;32mreturn\u001b[0m \u001b[0mwrapper\u001b[0m\u001b[1;33m\u001b[0m\u001b[0m\n",
      "\u001b[1;32mO:\\Anaconda\\lib\\site-packages\\keras\\models.py\u001b[0m in \u001b[0;36mfit_generator\u001b[1;34m(self, generator, steps_per_epoch, epochs, verbose, callbacks, validation_data, validation_steps, class_weight, max_queue_size, workers, use_multiprocessing, shuffle, initial_epoch)\u001b[0m\n\u001b[0;32m   1254\u001b[0m                                         \u001b[0muse_multiprocessing\u001b[0m\u001b[1;33m=\u001b[0m\u001b[0muse_multiprocessing\u001b[0m\u001b[1;33m,\u001b[0m\u001b[1;33m\u001b[0m\u001b[0m\n\u001b[0;32m   1255\u001b[0m                                         \u001b[0mshuffle\u001b[0m\u001b[1;33m=\u001b[0m\u001b[0mshuffle\u001b[0m\u001b[1;33m,\u001b[0m\u001b[1;33m\u001b[0m\u001b[0m\n\u001b[1;32m-> 1256\u001b[1;33m                                         initial_epoch=initial_epoch)\n\u001b[0m\u001b[0;32m   1257\u001b[0m \u001b[1;33m\u001b[0m\u001b[0m\n\u001b[0;32m   1258\u001b[0m     \u001b[1;33m@\u001b[0m\u001b[0minterfaces\u001b[0m\u001b[1;33m.\u001b[0m\u001b[0mlegacy_generator_methods_support\u001b[0m\u001b[1;33m\u001b[0m\u001b[0m\n",
      "\u001b[1;32mO:\\Anaconda\\lib\\site-packages\\keras\\legacy\\interfaces.py\u001b[0m in \u001b[0;36mwrapper\u001b[1;34m(*args, **kwargs)\u001b[0m\n\u001b[0;32m     89\u001b[0m                 warnings.warn('Update your `' + object_name +\n\u001b[0;32m     90\u001b[0m                               '` call to the Keras 2 API: ' + signature, stacklevel=2)\n\u001b[1;32m---> 91\u001b[1;33m             \u001b[1;32mreturn\u001b[0m \u001b[0mfunc\u001b[0m\u001b[1;33m(\u001b[0m\u001b[1;33m*\u001b[0m\u001b[0margs\u001b[0m\u001b[1;33m,\u001b[0m \u001b[1;33m**\u001b[0m\u001b[0mkwargs\u001b[0m\u001b[1;33m)\u001b[0m\u001b[1;33m\u001b[0m\u001b[0m\n\u001b[0m\u001b[0;32m     92\u001b[0m         \u001b[0mwrapper\u001b[0m\u001b[1;33m.\u001b[0m\u001b[0m_original_function\u001b[0m \u001b[1;33m=\u001b[0m \u001b[0mfunc\u001b[0m\u001b[1;33m\u001b[0m\u001b[0m\n\u001b[0;32m     93\u001b[0m         \u001b[1;32mreturn\u001b[0m \u001b[0mwrapper\u001b[0m\u001b[1;33m\u001b[0m\u001b[0m\n",
      "\u001b[1;32mO:\\Anaconda\\lib\\site-packages\\keras\\engine\\training.py\u001b[0m in \u001b[0;36mfit_generator\u001b[1;34m(self, generator, steps_per_epoch, epochs, verbose, callbacks, validation_data, validation_steps, class_weight, max_queue_size, workers, use_multiprocessing, shuffle, initial_epoch)\u001b[0m\n\u001b[0;32m   2175\u001b[0m                     outs = self.train_on_batch(x, y,\n\u001b[0;32m   2176\u001b[0m                                                \u001b[0msample_weight\u001b[0m\u001b[1;33m=\u001b[0m\u001b[0msample_weight\u001b[0m\u001b[1;33m,\u001b[0m\u001b[1;33m\u001b[0m\u001b[0m\n\u001b[1;32m-> 2177\u001b[1;33m                                                class_weight=class_weight)\n\u001b[0m\u001b[0;32m   2178\u001b[0m \u001b[1;33m\u001b[0m\u001b[0m\n\u001b[0;32m   2179\u001b[0m                     \u001b[1;32mif\u001b[0m \u001b[1;32mnot\u001b[0m \u001b[0misinstance\u001b[0m\u001b[1;33m(\u001b[0m\u001b[0mouts\u001b[0m\u001b[1;33m,\u001b[0m \u001b[0mlist\u001b[0m\u001b[1;33m)\u001b[0m\u001b[1;33m:\u001b[0m\u001b[1;33m\u001b[0m\u001b[0m\n",
      "\u001b[1;32mO:\\Anaconda\\lib\\site-packages\\keras\\engine\\training.py\u001b[0m in \u001b[0;36mtrain_on_batch\u001b[1;34m(self, x, y, sample_weight, class_weight)\u001b[0m\n\u001b[0;32m   1841\u001b[0m             \u001b[0msample_weight\u001b[0m\u001b[1;33m=\u001b[0m\u001b[0msample_weight\u001b[0m\u001b[1;33m,\u001b[0m\u001b[1;33m\u001b[0m\u001b[0m\n\u001b[0;32m   1842\u001b[0m             \u001b[0mclass_weight\u001b[0m\u001b[1;33m=\u001b[0m\u001b[0mclass_weight\u001b[0m\u001b[1;33m,\u001b[0m\u001b[1;33m\u001b[0m\u001b[0m\n\u001b[1;32m-> 1843\u001b[1;33m             check_batch_axis=True)\n\u001b[0m\u001b[0;32m   1844\u001b[0m         \u001b[1;32mif\u001b[0m \u001b[0mself\u001b[0m\u001b[1;33m.\u001b[0m\u001b[0muses_learning_phase\u001b[0m \u001b[1;32mand\u001b[0m \u001b[1;32mnot\u001b[0m \u001b[0misinstance\u001b[0m\u001b[1;33m(\u001b[0m\u001b[0mK\u001b[0m\u001b[1;33m.\u001b[0m\u001b[0mlearning_phase\u001b[0m\u001b[1;33m(\u001b[0m\u001b[1;33m)\u001b[0m\u001b[1;33m,\u001b[0m \u001b[0mint\u001b[0m\u001b[1;33m)\u001b[0m\u001b[1;33m:\u001b[0m\u001b[1;33m\u001b[0m\u001b[0m\n\u001b[0;32m   1845\u001b[0m             \u001b[0mins\u001b[0m \u001b[1;33m=\u001b[0m \u001b[0mx\u001b[0m \u001b[1;33m+\u001b[0m \u001b[0my\u001b[0m \u001b[1;33m+\u001b[0m \u001b[0msample_weights\u001b[0m \u001b[1;33m+\u001b[0m \u001b[1;33m[\u001b[0m\u001b[1;36m1.\u001b[0m\u001b[1;33m]\u001b[0m\u001b[1;33m\u001b[0m\u001b[0m\n",
      "\u001b[1;32mO:\\Anaconda\\lib\\site-packages\\keras\\engine\\training.py\u001b[0m in \u001b[0;36m_standardize_user_data\u001b[1;34m(self, x, y, sample_weight, class_weight, check_batch_axis, batch_size)\u001b[0m\n\u001b[0;32m   1428\u001b[0m                                     \u001b[0moutput_shapes\u001b[0m\u001b[1;33m,\u001b[0m\u001b[1;33m\u001b[0m\u001b[0m\n\u001b[0;32m   1429\u001b[0m                                     \u001b[0mcheck_batch_axis\u001b[0m\u001b[1;33m=\u001b[0m\u001b[1;32mFalse\u001b[0m\u001b[1;33m,\u001b[0m\u001b[1;33m\u001b[0m\u001b[0m\n\u001b[1;32m-> 1430\u001b[1;33m                                     exception_prefix='target')\n\u001b[0m\u001b[0;32m   1431\u001b[0m         sample_weights = _standardize_sample_weights(sample_weight,\n\u001b[0;32m   1432\u001b[0m                                                      self._feed_output_names)\n",
      "\u001b[1;32mO:\\Anaconda\\lib\\site-packages\\keras\\engine\\training.py\u001b[0m in \u001b[0;36m_standardize_input_data\u001b[1;34m(data, names, shapes, check_batch_axis, exception_prefix)\u001b[0m\n\u001b[0;32m    118\u001b[0m                             \u001b[1;34m': expected '\u001b[0m \u001b[1;33m+\u001b[0m \u001b[0mnames\u001b[0m\u001b[1;33m[\u001b[0m\u001b[0mi\u001b[0m\u001b[1;33m]\u001b[0m \u001b[1;33m+\u001b[0m \u001b[1;34m' to have shape '\u001b[0m \u001b[1;33m+\u001b[0m\u001b[1;33m\u001b[0m\u001b[0m\n\u001b[0;32m    119\u001b[0m                             \u001b[0mstr\u001b[0m\u001b[1;33m(\u001b[0m\u001b[0mshape\u001b[0m\u001b[1;33m)\u001b[0m \u001b[1;33m+\u001b[0m \u001b[1;34m' but got array with shape '\u001b[0m \u001b[1;33m+\u001b[0m\u001b[1;33m\u001b[0m\u001b[0m\n\u001b[1;32m--> 120\u001b[1;33m                             str(data_shape))\n\u001b[0m\u001b[0;32m    121\u001b[0m     \u001b[1;32mreturn\u001b[0m \u001b[0mdata\u001b[0m\u001b[1;33m\u001b[0m\u001b[0m\n\u001b[0;32m    122\u001b[0m \u001b[1;33m\u001b[0m\u001b[0m\n",
      "\u001b[1;31mValueError\u001b[0m: Error when checking target: expected dense_4 to have shape (4,) but got array with shape (1,)"
     ]
    }
   ],
   "source": [
    "from keras.preprocessing.image import ImageDataGenerator, array_to_img, img_to_array, load_img\n",
    "\n",
    "train_datagen = ImageDataGenerator(\n",
    "        #rotation_range=40, \n",
    "        #width_shift_range=0.2,\n",
    "        #height_shift_range=0.2,\n",
    "        rescale=1./255,\n",
    "        shear_range=0.2,\n",
    "        zoom_range=0.2,\n",
    "        horizontal_flip=True,\n",
    "        #fill_mode='nearest'\n",
    ")\n",
    "\n",
    "\n",
    "test_datagen = ImageDataGenerator(rescale=1./255)\n",
    "\n",
    "path = \"G:\\Photographs\\MIO_TCV_Classif\\train\\\"\n",
    "\n",
    "batch_size = 16\n",
    "train_generator = train_datagen.flow_from_directory(\n",
    "        path+'train',  # this is the target directory\n",
    "        target_size=(150, 150),  # all images will be resized to 150x150\n",
    "        batch_size=batch_size,\n",
    "        class_mode='binary')\n",
    "\n",
    "validation_generator = test_datagen.flow_from_directory(\n",
    "        path+'validation',\n",
    "        target_size=(150, 150),\n",
    "        batch_size=batch_size,\n",
    "        class_mode='binary')\n",
    "\n",
    "\n",
    "from keras.models import Sequential\n",
    "from keras.layers import Conv2D, MaxPooling2D, Activation, Flatten, Dropout, Dense\n",
    "\n",
    "model = Sequential()\n",
    "model.add(Conv2D(32, (3, 3), input_shape=(150, 150, 3)))\n",
    "model.add(Activation('relu'))\n",
    "model.add(MaxPooling2D(pool_size=(2, 2)))\n",
    "\n",
    "model.add(Conv2D(32, (3, 3)))\n",
    "model.add(Activation('relu'))\n",
    "model.add(MaxPooling2D(pool_size=(2, 2)))\n",
    "\n",
    "model.add(Conv2D(64, (3, 3)))\n",
    "model.add(Activation('relu'))\n",
    "model.add(MaxPooling2D(pool_size=(2, 2)))\n",
    "\n",
    "\n",
    "model.add(Flatten())  # this converts our 3D feature maps to 1D feature vectors\n",
    "model.add(Dense(64))\n",
    "model.add(Activation('relu'))\n",
    "model.add(Dropout(0.5))\n",
    "model.add(Dense(4, kernel_initializer=\"he_normal\",\n",
    "                      activation=\"softmax\"))\n",
    "#model.add(Activation('sigmoid'))\n",
    "model.compile(optimizer='rmsprop',\n",
    "              loss='categorical_crossentropy',\n",
    "              metrics=['accuracy'])\n",
    "\n",
    "model.fit_generator(\n",
    "        train_generator,\n",
    "        steps_per_epoch=2000 // batch_size,\n",
    "        epochs=50,\n",
    "        validation_data=validation_generator,\n",
    "        validation_steps=800 // batch_size)\n",
    "\n",
    "model.save_weights('G:\\Photographs\\MIO_TCV_Classif\\models\\first_try.h5')"
   ]
  },
  {
   "cell_type": "code",
   "execution_count": 7,
   "metadata": {},
   "outputs": [
    {
     "name": "stdout",
     "output_type": "stream",
     "text": [
      "2\n"
     ]
    }
   ],
   "source": [
    "print([0,2,3,][-2])"
   ]
  }
 ],
 "metadata": {
  "kernelspec": {
   "display_name": "Python 3",
   "language": "python",
   "name": "python3"
  },
  "language_info": {
   "codemirror_mode": {
    "name": "ipython",
    "version": 3
   },
   "file_extension": ".py",
   "mimetype": "text/x-python",
   "name": "python",
   "nbconvert_exporter": "python",
   "pygments_lexer": "ipython3",
   "version": "3.6.6"
  }
 },
 "nbformat": 4,
 "nbformat_minor": 2
}
