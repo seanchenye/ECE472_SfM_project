{
 "cells": [
  {
   "cell_type": "code",
   "execution_count": 5,
   "metadata": {},
   "outputs": [
    {
     "name": "stdout",
     "output_type": "stream",
     "text": [
      "[ 16.14479065   7.6505272    0.01638304]\n"
     ]
    }
   ],
   "source": [
    "import numpy.linalg as lin\n",
    "A = [[4.29, 2.2, 5.51], [5.20, 10.1, -8.24], [1.33, 4.8, -6.62]]\n",
    "u, s, vh = lin.svd(A)\n",
    "#u.shape, s.shape, vh.shape\n",
    "print(s)"
   ]
  },
  {
   "cell_type": "markdown",
   "metadata": {},
   "source": [
    "The conjecture that matrix A has only 2 independent columns is supported by the fact that the third singular value of A is 0.0164, which can be regarded as 0 if the effect of noise is eliminated."
   ]
  },
  {
   "cell_type": "code",
   "execution_count": null,
   "metadata": {
    "collapsed": true
   },
   "outputs": [],
   "source": []
  }
 ],
 "metadata": {
  "kernelspec": {
   "display_name": "Python 3",
   "language": "python",
   "name": "python3"
  },
  "language_info": {
   "codemirror_mode": {
    "name": "ipython",
    "version": 3
   },
   "file_extension": ".py",
   "mimetype": "text/x-python",
   "name": "python",
   "nbconvert_exporter": "python",
   "pygments_lexer": "ipython3",
   "version": "3.6.3"
  }
 },
 "nbformat": 4,
 "nbformat_minor": 2
}
